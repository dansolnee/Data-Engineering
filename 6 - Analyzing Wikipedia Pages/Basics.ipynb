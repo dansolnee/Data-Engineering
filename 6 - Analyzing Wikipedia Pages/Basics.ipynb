{
 "cells": [
  {
   "cell_type": "markdown",
   "metadata": {},
   "source": [
    "# Analyzing Wikipedia Pages\n",
    "\n",
    "In this project, we will be looking at data scraped from [Wikipedia](https://www.wikipedia.org/) with the grep command-line utility pages that were grepped for 'science:'.\n",
    "\n",
    "The main goals will be the following:\n",
    "* Search for all occurrences of a string in all of the files.\n",
    "* Provide a case-insensitive option to the search.\n",
    "* Refine the result by providing the specific locations of the files.\n",
    "\n",
    "## Introducing Wikipedia Data\n",
    "\n",
    "First, we'll look at the HTML text files that are saved in the format: https://en.wikipedia.org/wiki/Yarkant_County -> Yarkant_County.html"
   ]
  },
  {
   "cell_type": "code",
   "execution_count": 1,
   "metadata": {},
   "outputs": [
    {
     "data": {
      "text/plain": [
       "999"
      ]
     },
     "execution_count": 1,
     "metadata": {},
     "output_type": "execute_result"
    }
   ],
   "source": [
    "import os\n",
    "\n",
    "file_names = os.listdir(\"wiki\")\n",
    "len(file_names)"
   ]
  }
 ],
 "metadata": {
  "kernelspec": {
   "display_name": "Python 3",
   "language": "python",
   "name": "python3"
  },
  "language_info": {
   "codemirror_mode": {
    "name": "ipython",
    "version": 3
   },
   "file_extension": ".py",
   "mimetype": "text/x-python",
   "name": "python",
   "nbconvert_exporter": "python",
   "pygments_lexer": "ipython3",
   "version": "3.8.2"
  }
 },
 "nbformat": 4,
 "nbformat_minor": 1
}
