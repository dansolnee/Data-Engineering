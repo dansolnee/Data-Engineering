{
 "cells": [
  {
   "cell_type": "markdown",
   "metadata": {
    "collapsed": true
   },
   "source": [
    "# Analyzing Startup Fundraising Deals from Crunchbase\n",
    "\n",
    "Every year, thousands of startup companies raise financing from investors. Each time a startup raises money, we refer to the event as a fundraising round. Crunchbase is a website that crowdsources information on the fundraising rounds of many startups. The Crunchbase user community submits, edits, and maintains most of the information in Crunchbase.\n",
    "\n",
    "The data set of investments we'll be exploring is current as of October 2013. You can download it from [GitHub](https://github.com/datahoarder/crunchbase-october-2013/blob/master/crunchbase-investments.csv).\n",
    "\n",
    "Throughout this project, we'll practice working with different memory constraints. For the initial step, we will assume that we only have 10 MB of available memory."
   ]
  },
  {
   "cell_type": "code",
   "execution_count": 17,
   "metadata": {},
   "outputs": [],
   "source": [
    "import pandas as pd\n",
    "import numpy as np"
   ]
  },
  {
   "cell_type": "markdown",
   "metadata": {},
   "source": [
    "Below let's look at missing values:"
   ]
  },
  {
   "cell_type": "code",
   "execution_count": 18,
   "metadata": {},
   "outputs": [
    {
     "name": "stdout",
     "output_type": "stream",
     "text": [
      "company_country_code          1\n",
      "company_name                  1\n",
      "company_permalink             1\n",
      "company_region                1\n",
      "investor_region               2\n",
      "investor_permalink            2\n",
      "investor_name                 2\n",
      "funded_quarter                3\n",
      "funded_at                     3\n",
      "funded_month                  3\n",
      "funded_year                   3\n",
      "funding_round_type            3\n",
      "company_state_code          492\n",
      "company_city                533\n",
      "company_category_code       643\n",
      "raised_amount_usd          3599\n",
      "investor_country_code     12001\n",
      "investor_city             12480\n",
      "investor_state_code       16809\n",
      "investor_category_code    50427\n",
      "dtype: int64\n"
     ]
    }
   ],
   "source": [
    "chunk_iter = pd.read_csv('crunchbase-investments.csv', chunksize=5000, encoding='ISO-8859-1')\n",
    "\n",
    "missing = []\n",
    "\n",
    "for chunk in chunk_iter:\n",
    "    missing.append(chunk.isnull().sum())\n",
    "    \n",
    "combined = pd.concat(missing)\n",
    "grouped = combined.groupby(combined.index).sum().sort_values()\n",
    "\n",
    "print(grouped)"
   ]
  },
  {
   "cell_type": "markdown",
   "metadata": {},
   "source": [
    "Now let's look at memory footprints for each column:"
   ]
  },
  {
   "cell_type": "code",
   "execution_count": 19,
   "metadata": {},
   "outputs": [
    {
     "name": "stdout",
     "output_type": "stream",
     "text": [
      "company_permalink         4057788\n",
      "company_name              3591326\n",
      "company_category_code     3421104\n",
      "company_country_code      3172176\n",
      "company_state_code        3106051\n",
      "company_region            3411585\n",
      "company_city              3505926\n",
      "investor_permalink        4980548\n",
      "investor_name             3915666\n",
      "investor_category_code     622424\n",
      "investor_country_code     2647292\n",
      "investor_state_code       2476607\n",
      "investor_region           3396281\n",
      "investor_city             2885083\n",
      "funding_round_type        3410707\n",
      "funded_at                 3542185\n",
      "funded_month              3383584\n",
      "funded_quarter            3383584\n",
      "funded_year                422960\n",
      "raised_amount_usd          422960\n",
      "dtype: int64\n"
     ]
    }
   ],
   "source": [
    "chunk_iter = pd.read_csv('crunchbase-investments.csv', chunksize=5000, encoding='ISO-8859-1')\n",
    "test_chunk = next(chunk_iter)\n",
    "cols = test_chunk.columns\n",
    "\n",
    "chunk_iter = pd.read_csv('crunchbase-investments.csv', chunksize=5000, encoding='ISO-8859-1')\n",
    "memory = pd.Series(0, index=cols)\n",
    "\n",
    "for chunk in chunk_iter:\n",
    "    memory += chunk.memory_usage(index=False, deep=True)\n",
    "    \n",
    "print(memory)"
   ]
  },
  {
   "cell_type": "code",
   "execution_count": 20,
   "metadata": {},
   "outputs": [
    {
     "data": {
      "text/plain": [
       "56.9876070022583"
      ]
     },
     "execution_count": 20,
     "metadata": {},
     "output_type": "execute_result"
    }
   ],
   "source": [
    "memory.sum() / (1024 ** 2) # Total memory"
   ]
  },
  {
   "cell_type": "markdown",
   "metadata": {},
   "source": [
    "Now we will look at columns to drop because they are not useful for analysis. In particular, when looking at the data we should drop those that contain too many missing values like investor_category_code and those that contain urls like investor_permalink and company_permalink."
   ]
  },
  {
   "cell_type": "code",
   "execution_count": 21,
   "metadata": {},
   "outputs": [],
   "source": [
    "drop_cols = ['investor_permalink', 'company_permalink', 'investor_category_code']\n",
    "keep_cols = chunk.columns.drop(drop_cols)"
   ]
  },
  {
   "cell_type": "markdown",
   "metadata": {},
   "source": [
    "## Selecting Data Types\n",
    "\n",
    "Now let's get familiar with the column types."
   ]
  },
  {
   "cell_type": "code",
   "execution_count": 22,
   "metadata": {},
   "outputs": [
    {
     "data": {
      "text/plain": [
       "{'company_permalink': {'object'},\n",
       " 'company_name': {'object'},\n",
       " 'company_category_code': {'object'},\n",
       " 'company_country_code': {'object'},\n",
       " 'company_state_code': {'object'},\n",
       " 'company_region': {'object'},\n",
       " 'company_city': {'object'},\n",
       " 'investor_permalink': {'object'},\n",
       " 'investor_name': {'object'},\n",
       " 'investor_category_code': {'float64', 'object'},\n",
       " 'investor_country_code': {'float64', 'object'},\n",
       " 'investor_state_code': {'float64', 'object'},\n",
       " 'investor_region': {'object'},\n",
       " 'investor_city': {'float64', 'object'},\n",
       " 'funding_round_type': {'object'},\n",
       " 'funded_at': {'object'},\n",
       " 'funded_month': {'object'},\n",
       " 'funded_quarter': {'object'},\n",
       " 'funded_year': {'float64', 'int64'},\n",
       " 'raised_amount_usd': {'float64'}}"
      ]
     },
     "execution_count": 22,
     "metadata": {},
     "output_type": "execute_result"
    }
   ],
   "source": [
    "columns = {}\n",
    "chunk_iter = pd.read_csv('crunchbase-investments.csv', chunksize=5000, encoding='ISO-8859-1')\n",
    "\n",
    "for chunk in chunk_iter:\n",
    "    for col in chunk.columns:\n",
    "        if col not in columns:\n",
    "            columns[col] = set()\n",
    "            columns[col].add(str(chunk.dtypes[col]))\n",
    "        else:\n",
    "            columns[col].add(str(chunk.dtypes[col]))\n",
    "            \n",
    "columns"
   ]
  },
  {
   "cell_type": "markdown",
   "metadata": {},
   "source": [
    "Some of the columns will need to be cleaned as seen from above. We should also identify which columns to represent using more space efficient types. Let's take a quick look at some sample data:"
   ]
  },
  {
   "cell_type": "code",
   "execution_count": 23,
   "metadata": {},
   "outputs": [
    {
     "data": {
      "text/html": [
       "<div>\n",
       "<style scoped>\n",
       "    .dataframe tbody tr th:only-of-type {\n",
       "        vertical-align: middle;\n",
       "    }\n",
       "\n",
       "    .dataframe tbody tr th {\n",
       "        vertical-align: top;\n",
       "    }\n",
       "\n",
       "    .dataframe thead th {\n",
       "        text-align: right;\n",
       "    }\n",
       "</style>\n",
       "<table border=\"1\" class=\"dataframe\">\n",
       "  <thead>\n",
       "    <tr style=\"text-align: right;\">\n",
       "      <th></th>\n",
       "      <th>company_permalink</th>\n",
       "      <th>company_name</th>\n",
       "      <th>company_category_code</th>\n",
       "      <th>company_country_code</th>\n",
       "      <th>company_state_code</th>\n",
       "      <th>company_region</th>\n",
       "      <th>company_city</th>\n",
       "      <th>investor_permalink</th>\n",
       "      <th>investor_name</th>\n",
       "      <th>investor_category_code</th>\n",
       "      <th>investor_country_code</th>\n",
       "      <th>investor_state_code</th>\n",
       "      <th>investor_region</th>\n",
       "      <th>investor_city</th>\n",
       "      <th>funding_round_type</th>\n",
       "      <th>funded_at</th>\n",
       "      <th>funded_month</th>\n",
       "      <th>funded_quarter</th>\n",
       "      <th>funded_year</th>\n",
       "      <th>raised_amount_usd</th>\n",
       "    </tr>\n",
       "  </thead>\n",
       "  <tbody>\n",
       "    <tr>\n",
       "      <th>50000</th>\n",
       "      <td>/company/nuorder</td>\n",
       "      <td>NuORDER</td>\n",
       "      <td>fashion</td>\n",
       "      <td>USA</td>\n",
       "      <td>CA</td>\n",
       "      <td>Los Angeles</td>\n",
       "      <td>West Hollywood</td>\n",
       "      <td>/person/mortimer-singer</td>\n",
       "      <td>Mortimer Singer</td>\n",
       "      <td>NaN</td>\n",
       "      <td>NaN</td>\n",
       "      <td>NaN</td>\n",
       "      <td>unknown</td>\n",
       "      <td>NaN</td>\n",
       "      <td>series-a</td>\n",
       "      <td>2012-10-01</td>\n",
       "      <td>2012-10</td>\n",
       "      <td>2012-Q4</td>\n",
       "      <td>2012</td>\n",
       "      <td>3060000.0</td>\n",
       "    </tr>\n",
       "    <tr>\n",
       "      <th>50001</th>\n",
       "      <td>/company/chacha</td>\n",
       "      <td>ChaCha</td>\n",
       "      <td>advertising</td>\n",
       "      <td>USA</td>\n",
       "      <td>IN</td>\n",
       "      <td>Indianapolis</td>\n",
       "      <td>Carmel</td>\n",
       "      <td>/person/morton-meyerson</td>\n",
       "      <td>Morton Meyerson</td>\n",
       "      <td>NaN</td>\n",
       "      <td>NaN</td>\n",
       "      <td>NaN</td>\n",
       "      <td>unknown</td>\n",
       "      <td>NaN</td>\n",
       "      <td>series-b</td>\n",
       "      <td>2007-10-01</td>\n",
       "      <td>2007-10</td>\n",
       "      <td>2007-Q4</td>\n",
       "      <td>2007</td>\n",
       "      <td>12000000.0</td>\n",
       "    </tr>\n",
       "    <tr>\n",
       "      <th>50002</th>\n",
       "      <td>/company/binfire</td>\n",
       "      <td>Binfire</td>\n",
       "      <td>software</td>\n",
       "      <td>USA</td>\n",
       "      <td>FL</td>\n",
       "      <td>Bocat Raton</td>\n",
       "      <td>Bocat Raton</td>\n",
       "      <td>/person/moshe-ariel</td>\n",
       "      <td>Moshe Ariel</td>\n",
       "      <td>NaN</td>\n",
       "      <td>NaN</td>\n",
       "      <td>NaN</td>\n",
       "      <td>unknown</td>\n",
       "      <td>NaN</td>\n",
       "      <td>angel</td>\n",
       "      <td>2008-04-18</td>\n",
       "      <td>2008-04</td>\n",
       "      <td>2008-Q2</td>\n",
       "      <td>2008</td>\n",
       "      <td>500000.0</td>\n",
       "    </tr>\n",
       "    <tr>\n",
       "      <th>50003</th>\n",
       "      <td>/company/binfire</td>\n",
       "      <td>Binfire</td>\n",
       "      <td>software</td>\n",
       "      <td>USA</td>\n",
       "      <td>FL</td>\n",
       "      <td>Bocat Raton</td>\n",
       "      <td>Bocat Raton</td>\n",
       "      <td>/person/moshe-ariel</td>\n",
       "      <td>Moshe Ariel</td>\n",
       "      <td>NaN</td>\n",
       "      <td>NaN</td>\n",
       "      <td>NaN</td>\n",
       "      <td>unknown</td>\n",
       "      <td>NaN</td>\n",
       "      <td>angel</td>\n",
       "      <td>2010-01-01</td>\n",
       "      <td>2010-01</td>\n",
       "      <td>2010-Q1</td>\n",
       "      <td>2010</td>\n",
       "      <td>750000.0</td>\n",
       "    </tr>\n",
       "    <tr>\n",
       "      <th>50004</th>\n",
       "      <td>/company/unified-color</td>\n",
       "      <td>Unified Color</td>\n",
       "      <td>software</td>\n",
       "      <td>USA</td>\n",
       "      <td>CA</td>\n",
       "      <td>SF Bay</td>\n",
       "      <td>South San Frnacisco</td>\n",
       "      <td>/person/mr-andrew-oung</td>\n",
       "      <td>Mr. Andrew Oung</td>\n",
       "      <td>NaN</td>\n",
       "      <td>NaN</td>\n",
       "      <td>NaN</td>\n",
       "      <td>unknown</td>\n",
       "      <td>NaN</td>\n",
       "      <td>angel</td>\n",
       "      <td>2010-01-01</td>\n",
       "      <td>2010-01</td>\n",
       "      <td>2010-Q1</td>\n",
       "      <td>2010</td>\n",
       "      <td>NaN</td>\n",
       "    </tr>\n",
       "  </tbody>\n",
       "</table>\n",
       "</div>"
      ],
      "text/plain": [
       "            company_permalink   company_name company_category_code  \\\n",
       "50000        /company/nuorder        NuORDER               fashion   \n",
       "50001         /company/chacha         ChaCha           advertising   \n",
       "50002        /company/binfire        Binfire              software   \n",
       "50003        /company/binfire        Binfire              software   \n",
       "50004  /company/unified-color  Unified Color              software   \n",
       "\n",
       "      company_country_code company_state_code company_region  \\\n",
       "50000                  USA                 CA    Los Angeles   \n",
       "50001                  USA                 IN   Indianapolis   \n",
       "50002                  USA                 FL    Bocat Raton   \n",
       "50003                  USA                 FL    Bocat Raton   \n",
       "50004                  USA                 CA         SF Bay   \n",
       "\n",
       "              company_city       investor_permalink    investor_name  \\\n",
       "50000       West Hollywood  /person/mortimer-singer  Mortimer Singer   \n",
       "50001               Carmel  /person/morton-meyerson  Morton Meyerson   \n",
       "50002          Bocat Raton      /person/moshe-ariel      Moshe Ariel   \n",
       "50003          Bocat Raton      /person/moshe-ariel      Moshe Ariel   \n",
       "50004  South San Frnacisco   /person/mr-andrew-oung  Mr. Andrew Oung   \n",
       "\n",
       "       investor_category_code  investor_country_code  investor_state_code  \\\n",
       "50000                     NaN                    NaN                  NaN   \n",
       "50001                     NaN                    NaN                  NaN   \n",
       "50002                     NaN                    NaN                  NaN   \n",
       "50003                     NaN                    NaN                  NaN   \n",
       "50004                     NaN                    NaN                  NaN   \n",
       "\n",
       "      investor_region  investor_city funding_round_type   funded_at  \\\n",
       "50000         unknown            NaN           series-a  2012-10-01   \n",
       "50001         unknown            NaN           series-b  2007-10-01   \n",
       "50002         unknown            NaN              angel  2008-04-18   \n",
       "50003         unknown            NaN              angel  2010-01-01   \n",
       "50004         unknown            NaN              angel  2010-01-01   \n",
       "\n",
       "      funded_month funded_quarter  funded_year  raised_amount_usd  \n",
       "50000      2012-10        2012-Q4         2012          3060000.0  \n",
       "50001      2007-10        2007-Q4         2007         12000000.0  \n",
       "50002      2008-04        2008-Q2         2008           500000.0  \n",
       "50003      2010-01        2010-Q1         2010           750000.0  \n",
       "50004      2010-01        2010-Q1         2010                NaN  "
      ]
     },
     "execution_count": 23,
     "metadata": {},
     "output_type": "execute_result"
    }
   ],
   "source": [
    "chunk.head()"
   ]
  },
  {
   "cell_type": "code",
   "execution_count": 24,
   "metadata": {},
   "outputs": [
    {
     "name": "stdout",
     "output_type": "stream",
     "text": [
      "company_name: 11573\n",
      "company_category_code: 43\n",
      "company_country_code: 2\n",
      "company_state_code: 50\n",
      "company_region: 546\n",
      "company_city: 1229\n",
      "investor_name: 10465\n",
      "investor_country_code: 72\n",
      "investor_state_code: 50\n",
      "investor_region: 585\n",
      "investor_city: 990\n",
      "funding_round_type: 9\n",
      "funded_at: 2808\n",
      "funded_month: 192\n",
      "funded_quarter: 72\n"
     ]
    }
   ],
   "source": [
    "chunk_iter = pd.read_csv('crunchbase-investments.csv', chunksize=5000, encoding='ISO-8859-1')\n",
    "uniques = {} # For each column\n",
    "\n",
    "for chunk in chunk_iter:\n",
    "    strings = chunk.select_dtypes(include=['object']) # Get strings cols of chunk\n",
    "    cols = strings.columns\n",
    "    \n",
    "    # For each column, append the value_counts\n",
    "    for c in cols:\n",
    "        if c in drop_cols:\n",
    "            continue\n",
    "            \n",
    "        val_counts = strings[c].value_counts()\n",
    "        \n",
    "        if c in uniques:\n",
    "            uniques[c].append(val_counts)\n",
    "        else:\n",
    "            uniques[c] = [val_counts]\n",
    "            \n",
    "combined = {} # For putting the columns together\n",
    "\n",
    "for col in uniques:\n",
    "    c_concat = pd.concat(uniques[col]) # Combine lists\n",
    "    c_group = c_concat.groupby(c_concat.index).sum() # Group by column\n",
    "    combined[col] = c_group # Put into the new dictionary\n",
    "\n",
    "for col in combined:\n",
    "    print(col + ': ' + str(len(combined[col])))"
   ]
  },
  {
   "cell_type": "markdown",
   "metadata": {},
   "source": [
    "From the above, we can put the following into categories:\n",
    "\n",
    "company_category_code, company_country_code, company_state_code, investor_country_code, investor_state_code, funding_round_type"
   ]
  },
  {
   "cell_type": "code",
   "execution_count": 25,
   "metadata": {},
   "outputs": [],
   "source": [
    "categories = ['company_category_code', 'company_country_code', 'company_state_code', 'investor_country_code', 'investor_state_code', 'funding_round_type']\n",
    "cat_dic = {i:'category' for i in categories}"
   ]
  },
  {
   "cell_type": "markdown",
   "metadata": {},
   "source": [
    "Looking back at the sample data, we can also clean funded_month and convert to numerical. We can also clean funded_quarter and convert to categorical. funded_at will be converted to datetime as well."
   ]
  },
  {
   "cell_type": "code",
   "execution_count": 29,
   "metadata": {},
   "outputs": [],
   "source": [
    "def clean_last_2(val):\n",
    "    if not pd.isna(val):\n",
    "        try:\n",
    "            return val[-2:]\n",
    "        except TypeError:\n",
    "            return val"
   ]
  },
  {
   "cell_type": "markdown",
   "metadata": {},
   "source": [
    "## Loading Chunks into SQLite\n",
    "\n",
    "Now that we have a strategy for how to ensure best types, we will be loading each cleaned chunk into a table in a SQLite database so that we can query the full data set."
   ]
  },
  {
   "cell_type": "code",
   "execution_count": 30,
   "metadata": {},
   "outputs": [
    {
     "ename": "ValueError",
     "evalue": "Table 'investments' already exists.",
     "output_type": "error",
     "traceback": [
      "\u001b[0;31m---------------------------------------------------------------------------\u001b[0m",
      "\u001b[0;31mValueError\u001b[0m                                Traceback (most recent call last)",
      "\u001b[0;32m<ipython-input-30-4edcc0d755a9>\u001b[0m in \u001b[0;36m<module>\u001b[0;34m\u001b[0m\n\u001b[1;32m      9\u001b[0m     \u001b[0mchunk\u001b[0m\u001b[0;34m[\u001b[0m\u001b[0;34m'funded_month'\u001b[0m\u001b[0;34m]\u001b[0m \u001b[0;34m=\u001b[0m \u001b[0mpd\u001b[0m\u001b[0;34m.\u001b[0m\u001b[0mto_numeric\u001b[0m\u001b[0;34m(\u001b[0m\u001b[0mchunk\u001b[0m\u001b[0;34m[\u001b[0m\u001b[0;34m'funded_month'\u001b[0m\u001b[0;34m]\u001b[0m\u001b[0;34m.\u001b[0m\u001b[0mapply\u001b[0m\u001b[0;34m(\u001b[0m\u001b[0mclean_last_2\u001b[0m\u001b[0;34m)\u001b[0m\u001b[0;34m)\u001b[0m\u001b[0;34m\u001b[0m\u001b[0;34m\u001b[0m\u001b[0m\n\u001b[1;32m     10\u001b[0m     \u001b[0mchunk\u001b[0m\u001b[0;34m[\u001b[0m\u001b[0;34m'funded_quarter'\u001b[0m\u001b[0;34m]\u001b[0m \u001b[0;34m=\u001b[0m \u001b[0mchunk\u001b[0m\u001b[0;34m[\u001b[0m\u001b[0;34m'funded_quarter'\u001b[0m\u001b[0;34m]\u001b[0m\u001b[0;34m.\u001b[0m\u001b[0mapply\u001b[0m\u001b[0;34m(\u001b[0m\u001b[0mclean_last_2\u001b[0m\u001b[0;34m)\u001b[0m\u001b[0;34m.\u001b[0m\u001b[0mastype\u001b[0m\u001b[0;34m(\u001b[0m\u001b[0;34m'category'\u001b[0m\u001b[0;34m)\u001b[0m\u001b[0;34m\u001b[0m\u001b[0;34m\u001b[0m\u001b[0m\n\u001b[0;32m---> 11\u001b[0;31m     \u001b[0mchunk\u001b[0m\u001b[0;34m.\u001b[0m\u001b[0mto_sql\u001b[0m\u001b[0;34m(\u001b[0m\u001b[0;34m'investments'\u001b[0m\u001b[0;34m,\u001b[0m \u001b[0mconn\u001b[0m\u001b[0;34m)\u001b[0m\u001b[0;34m\u001b[0m\u001b[0;34m\u001b[0m\u001b[0m\n\u001b[0m\u001b[1;32m     12\u001b[0m \u001b[0;34m\u001b[0m\u001b[0m\n\u001b[1;32m     13\u001b[0m \u001b[0mcur\u001b[0m\u001b[0;34m.\u001b[0m\u001b[0mexecute\u001b[0m\u001b[0;34m(\u001b[0m\u001b[0;34m'SELECT * FROM investments LIMIT 1'\u001b[0m\u001b[0;34m)\u001b[0m\u001b[0;34m\u001b[0m\u001b[0;34m\u001b[0m\u001b[0m\n",
      "\u001b[0;32m/dataquest/system/env/python3/lib/python3.8/site-packages/pandas/core/generic.py\u001b[0m in \u001b[0;36mto_sql\u001b[0;34m(self, name, con, schema, if_exists, index, index_label, chunksize, dtype, method)\u001b[0m\n\u001b[1;32m   2651\u001b[0m         \u001b[0;32mfrom\u001b[0m \u001b[0mpandas\u001b[0m\u001b[0;34m.\u001b[0m\u001b[0mio\u001b[0m \u001b[0;32mimport\u001b[0m \u001b[0msql\u001b[0m\u001b[0;34m\u001b[0m\u001b[0;34m\u001b[0m\u001b[0m\n\u001b[1;32m   2652\u001b[0m \u001b[0;34m\u001b[0m\u001b[0m\n\u001b[0;32m-> 2653\u001b[0;31m         sql.to_sql(\n\u001b[0m\u001b[1;32m   2654\u001b[0m             \u001b[0mself\u001b[0m\u001b[0;34m,\u001b[0m\u001b[0;34m\u001b[0m\u001b[0;34m\u001b[0m\u001b[0m\n\u001b[1;32m   2655\u001b[0m             \u001b[0mname\u001b[0m\u001b[0;34m,\u001b[0m\u001b[0;34m\u001b[0m\u001b[0;34m\u001b[0m\u001b[0m\n",
      "\u001b[0;32m/dataquest/system/env/python3/lib/python3.8/site-packages/pandas/io/sql.py\u001b[0m in \u001b[0;36mto_sql\u001b[0;34m(frame, name, con, schema, if_exists, index, index_label, chunksize, dtype, method)\u001b[0m\n\u001b[1;32m    510\u001b[0m         )\n\u001b[1;32m    511\u001b[0m \u001b[0;34m\u001b[0m\u001b[0m\n\u001b[0;32m--> 512\u001b[0;31m     pandas_sql.to_sql(\n\u001b[0m\u001b[1;32m    513\u001b[0m         \u001b[0mframe\u001b[0m\u001b[0;34m,\u001b[0m\u001b[0;34m\u001b[0m\u001b[0;34m\u001b[0m\u001b[0m\n\u001b[1;32m    514\u001b[0m         \u001b[0mname\u001b[0m\u001b[0;34m,\u001b[0m\u001b[0;34m\u001b[0m\u001b[0;34m\u001b[0m\u001b[0m\n",
      "\u001b[0;32m/dataquest/system/env/python3/lib/python3.8/site-packages/pandas/io/sql.py\u001b[0m in \u001b[0;36mto_sql\u001b[0;34m(self, frame, name, if_exists, index, index_label, schema, chunksize, dtype, method)\u001b[0m\n\u001b[1;32m   1731\u001b[0m             \u001b[0mdtype\u001b[0m\u001b[0;34m=\u001b[0m\u001b[0mdtype\u001b[0m\u001b[0;34m,\u001b[0m\u001b[0;34m\u001b[0m\u001b[0;34m\u001b[0m\u001b[0m\n\u001b[1;32m   1732\u001b[0m         )\n\u001b[0;32m-> 1733\u001b[0;31m         \u001b[0mtable\u001b[0m\u001b[0;34m.\u001b[0m\u001b[0mcreate\u001b[0m\u001b[0;34m(\u001b[0m\u001b[0;34m)\u001b[0m\u001b[0;34m\u001b[0m\u001b[0;34m\u001b[0m\u001b[0m\n\u001b[0m\u001b[1;32m   1734\u001b[0m         \u001b[0mtable\u001b[0m\u001b[0;34m.\u001b[0m\u001b[0minsert\u001b[0m\u001b[0;34m(\u001b[0m\u001b[0mchunksize\u001b[0m\u001b[0;34m,\u001b[0m \u001b[0mmethod\u001b[0m\u001b[0;34m)\u001b[0m\u001b[0;34m\u001b[0m\u001b[0;34m\u001b[0m\u001b[0m\n\u001b[1;32m   1735\u001b[0m \u001b[0;34m\u001b[0m\u001b[0m\n",
      "\u001b[0;32m/dataquest/system/env/python3/lib/python3.8/site-packages/pandas/io/sql.py\u001b[0m in \u001b[0;36mcreate\u001b[0;34m(self)\u001b[0m\n\u001b[1;32m    644\u001b[0m         \u001b[0;32mif\u001b[0m \u001b[0mself\u001b[0m\u001b[0;34m.\u001b[0m\u001b[0mexists\u001b[0m\u001b[0;34m(\u001b[0m\u001b[0;34m)\u001b[0m\u001b[0;34m:\u001b[0m\u001b[0;34m\u001b[0m\u001b[0;34m\u001b[0m\u001b[0m\n\u001b[1;32m    645\u001b[0m             \u001b[0;32mif\u001b[0m \u001b[0mself\u001b[0m\u001b[0;34m.\u001b[0m\u001b[0mif_exists\u001b[0m \u001b[0;34m==\u001b[0m \u001b[0;34m\"fail\"\u001b[0m\u001b[0;34m:\u001b[0m\u001b[0;34m\u001b[0m\u001b[0;34m\u001b[0m\u001b[0m\n\u001b[0;32m--> 646\u001b[0;31m                 \u001b[0;32mraise\u001b[0m \u001b[0mValueError\u001b[0m\u001b[0;34m(\u001b[0m\u001b[0;34mf\"Table '{self.name}' already exists.\"\u001b[0m\u001b[0;34m)\u001b[0m\u001b[0;34m\u001b[0m\u001b[0;34m\u001b[0m\u001b[0m\n\u001b[0m\u001b[1;32m    647\u001b[0m             \u001b[0;32melif\u001b[0m \u001b[0mself\u001b[0m\u001b[0;34m.\u001b[0m\u001b[0mif_exists\u001b[0m \u001b[0;34m==\u001b[0m \u001b[0;34m\"replace\"\u001b[0m\u001b[0;34m:\u001b[0m\u001b[0;34m\u001b[0m\u001b[0;34m\u001b[0m\u001b[0m\n\u001b[1;32m    648\u001b[0m                 \u001b[0mself\u001b[0m\u001b[0;34m.\u001b[0m\u001b[0mpd_sql\u001b[0m\u001b[0;34m.\u001b[0m\u001b[0mdrop_table\u001b[0m\u001b[0;34m(\u001b[0m\u001b[0mself\u001b[0m\u001b[0;34m.\u001b[0m\u001b[0mname\u001b[0m\u001b[0;34m,\u001b[0m \u001b[0mself\u001b[0m\u001b[0;34m.\u001b[0m\u001b[0mschema\u001b[0m\u001b[0;34m)\u001b[0m\u001b[0;34m\u001b[0m\u001b[0;34m\u001b[0m\u001b[0m\n",
      "\u001b[0;31mValueError\u001b[0m: Table 'investments' already exists."
     ]
    }
   ],
   "source": [
    "import sqlite3\n",
    "\n",
    "chunk_iter = pd.read_csv('crunchbase-investments.csv', chunksize=5000, encoding='ISO-8859-1', usecols=keep_cols, parse_dates=['funded_at'], dtype=cat_dic)\n",
    "\n",
    "conn = sqlite3.connect('test.db')\n",
    "cur = conn.cursor()\n",
    "\n",
    "for chunk in chunk_iter:\n",
    "    chunk['funded_month'] = pd.to_numeric(chunk['funded_month'].apply(clean_last_2))\n",
    "    chunk['funded_quarter'] = chunk['funded_quarter'].apply(clean_last_2).astype('category')\n",
    "    chunk.to_sql('investments', conn)\n",
    "    \n",
    "cur.execute('SELECT * FROM investments LIMIT 1')\n"
   ]
  },
  {
   "cell_type": "code",
   "execution_count": null,
   "metadata": {},
   "outputs": [],
   "source": []
  }
 ],
 "metadata": {
  "anaconda-cloud": {},
  "kernelspec": {
   "display_name": "Python 3",
   "language": "python",
   "name": "python3"
  },
  "language_info": {
   "codemirror_mode": {
    "name": "ipython",
    "version": 3
   },
   "file_extension": ".py",
   "mimetype": "text/x-python",
   "name": "python",
   "nbconvert_exporter": "python",
   "pygments_lexer": "ipython3",
   "version": "3.8.2"
  }
 },
 "nbformat": 4,
 "nbformat_minor": 2
}
