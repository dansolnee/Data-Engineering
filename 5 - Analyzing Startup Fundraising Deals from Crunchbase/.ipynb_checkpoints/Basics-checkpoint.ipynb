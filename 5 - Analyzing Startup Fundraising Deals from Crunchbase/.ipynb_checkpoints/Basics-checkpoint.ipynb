{
 "cells": [
  {
   "cell_type": "markdown",
   "metadata": {
    "collapsed": true
   },
   "source": [
    "# Analyzing Startup Fundraising Deals from Crunchbase\n",
    "\n",
    "Every year, thousands of startup companies raise financing from investors. Each time a startup raises money, we refer to the event as a fundraising round. Crunchbase is a website that crowdsources information on the fundraising rounds of many startups. The Crunchbase user community submits, edits, and maintains most of the information in Crunchbase.\n",
    "\n",
    "The data set of investments we'll be exploring is current as of October 2013. You can download it from [GitHub](https://github.com/datahoarder/crunchbase-october-2013/blob/master/crunchbase-investments.csv).\n",
    "\n",
    "Throughout this project, we'll practice working with different memory constraints. For the initial step, we will assume that we only have 10 MB of available memory."
   ]
  },
  {
   "cell_type": "code",
   "execution_count": 26,
   "metadata": {},
   "outputs": [],
   "source": [
    "import pandas as pd\n",
    "import numpy as np"
   ]
  },
  {
   "cell_type": "markdown",
   "metadata": {},
   "source": [
    "Below let's look at missing values:"
   ]
  },
  {
   "cell_type": "code",
   "execution_count": 27,
   "metadata": {},
   "outputs": [
    {
     "name": "stdout",
     "output_type": "stream",
     "text": [
      "company_country_code          1\n",
      "company_name                  1\n",
      "company_permalink             1\n",
      "company_region                1\n",
      "investor_region               2\n",
      "investor_permalink            2\n",
      "investor_name                 2\n",
      "funded_quarter                3\n",
      "funded_at                     3\n",
      "funded_month                  3\n",
      "funded_year                   3\n",
      "funding_round_type            3\n",
      "company_state_code          492\n",
      "company_city                533\n",
      "company_category_code       643\n",
      "raised_amount_usd          3599\n",
      "investor_country_code     12001\n",
      "investor_city             12480\n",
      "investor_state_code       16809\n",
      "investor_category_code    50427\n",
      "dtype: int64\n"
     ]
    }
   ],
   "source": [
    "chunk_iter = pd.read_csv('crunchbase-investments.csv', chunksize=5000, encoding='ISO-8859-1')\n",
    "\n",
    "missing = []\n",
    "\n",
    "for chunk in chunk_iter:\n",
    "    missing.append(chunk.isnull().sum())\n",
    "    \n",
    "combined = pd.concat(missing)\n",
    "grouped = combined.groupby(combined.index).sum().sort_values()\n",
    "\n",
    "print(grouped)"
   ]
  },
  {
   "cell_type": "markdown",
   "metadata": {},
   "source": [
    "Now let's look at memory footprints for each column:"
   ]
  },
  {
   "cell_type": "code",
   "execution_count": 28,
   "metadata": {},
   "outputs": [
    {
     "name": "stdout",
     "output_type": "stream",
     "text": [
      "company_permalink         4057788\n",
      "company_name              3591326\n",
      "company_category_code     3421104\n",
      "company_country_code      3172176\n",
      "company_state_code        3106051\n",
      "company_region            3411585\n",
      "company_city              3505926\n",
      "investor_permalink        4980548\n",
      "investor_name             3915666\n",
      "investor_category_code     622424\n",
      "investor_country_code     2647292\n",
      "investor_state_code       2476607\n",
      "investor_region           3396281\n",
      "investor_city             2885083\n",
      "funding_round_type        3410707\n",
      "funded_at                 3542185\n",
      "funded_month              3383584\n",
      "funded_quarter            3383584\n",
      "funded_year                422960\n",
      "raised_amount_usd          422960\n",
      "dtype: int64\n"
     ]
    }
   ],
   "source": [
    "chunk_iter = pd.read_csv('crunchbase-investments.csv', chunksize=5000, encoding='ISO-8859-1')\n",
    "test_chunk = next(chunk_iter)\n",
    "cols = test_chunk.columns\n",
    "\n",
    "chunk_iter = pd.read_csv('crunchbase-investments.csv', chunksize=5000, encoding='ISO-8859-1')\n",
    "memory = pd.Series(0, index=cols)\n",
    "\n",
    "for chunk in chunk_iter:\n",
    "    memory += chunk.memory_usage(index=False, deep=True)\n",
    "    \n",
    "print(memory)"
   ]
  },
  {
   "cell_type": "code",
   "execution_count": 29,
   "metadata": {},
   "outputs": [
    {
     "data": {
      "text/plain": [
       "56.9876070022583"
      ]
     },
     "execution_count": 29,
     "metadata": {},
     "output_type": "execute_result"
    }
   ],
   "source": [
    "memory.sum() / (1024 ** 2) # Total memory"
   ]
  },
  {
   "cell_type": "markdown",
   "metadata": {},
   "source": [
    "Now we will look at columns to drop because they are not useful for analysis. In particular, when looking at the data we should drop those that contain too many missing values like investor_category_code and those that contain urls like investor_permalink and company_permalink."
   ]
  },
  {
   "cell_type": "code",
   "execution_count": 30,
   "metadata": {},
   "outputs": [],
   "source": [
    "drop_cols = ['investor_permalink', 'company_permalink', 'investor_category_code']"
   ]
  },
  {
   "cell_type": "code",
   "execution_count": null,
   "metadata": {},
   "outputs": [],
   "source": []
  }
 ],
 "metadata": {
  "anaconda-cloud": {},
  "kernelspec": {
   "display_name": "Python 3",
   "language": "python",
   "name": "python3"
  },
  "language_info": {
   "codemirror_mode": {
    "name": "ipython",
    "version": 3
   },
   "file_extension": ".py",
   "mimetype": "text/x-python",
   "name": "python",
   "nbconvert_exporter": "python",
   "pygments_lexer": "ipython3",
   "version": "3.8.2"
  }
 },
 "nbformat": 4,
 "nbformat_minor": 2
}
