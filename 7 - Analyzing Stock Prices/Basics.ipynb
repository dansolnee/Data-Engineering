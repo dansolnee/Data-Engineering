{
 "cells": [
  {
   "cell_type": "markdown",
   "metadata": {
    "collapsed": true
   },
   "source": [
    "# Analyzing Stock Prices\n",
    "\n",
    "In this project, we'll work with stock market data that was downloaded from Yahoo Finance using the yahoo_finance Python package. This data consists of the daily stock prices from 2007-1-1 to 2017-04-17 for several hundred stock symbols traded on the NASDAQ stock exchange, stored in the prices folder. \n",
    "\n",
    "The download_data.py script in the same folder as the Jupyter notebook was used to download all of the stock price data. Each file in the prices folder is named for a specific stock symbol, and contains the:\n",
    "\n",
    "* date -- date that the data is from.\n",
    "* close -- the closing price on that day, which is the price when the trading day ends.\n",
    "* open -- the opening price on that day, which is the price when the trading day starts.\n",
    "* high -- the highest price the stock reached during trading.\n",
    "* low -- the lowest price the stock reached during trading.\n",
    "* volume -- the number of shares that were traded during the day.\n",
    "\n",
    "## Stock Price Data\n",
    "\n",
    "Now we will import and look at some sample data."
   ]
  },
  {
   "cell_type": "code",
   "execution_count": 3,
   "metadata": {},
   "outputs": [
    {
     "data": {
      "text/html": [
       "<div>\n",
       "<style scoped>\n",
       "    .dataframe tbody tr th:only-of-type {\n",
       "        vertical-align: middle;\n",
       "    }\n",
       "\n",
       "    .dataframe tbody tr th {\n",
       "        vertical-align: top;\n",
       "    }\n",
       "\n",
       "    .dataframe thead th {\n",
       "        text-align: right;\n",
       "    }\n",
       "</style>\n",
       "<table border=\"1\" class=\"dataframe\">\n",
       "  <thead>\n",
       "    <tr style=\"text-align: right;\">\n",
       "      <th></th>\n",
       "      <th>date</th>\n",
       "      <th>close</th>\n",
       "      <th>open</th>\n",
       "      <th>high</th>\n",
       "      <th>low</th>\n",
       "      <th>volume</th>\n",
       "    </tr>\n",
       "  </thead>\n",
       "  <tbody>\n",
       "    <tr>\n",
       "      <th>0</th>\n",
       "      <td>2007-01-03</td>\n",
       "      <td>83.800002</td>\n",
       "      <td>86.289999</td>\n",
       "      <td>86.579999</td>\n",
       "      <td>81.899999</td>\n",
       "      <td>309579900</td>\n",
       "    </tr>\n",
       "    <tr>\n",
       "      <th>1</th>\n",
       "      <td>2007-01-04</td>\n",
       "      <td>85.659998</td>\n",
       "      <td>84.050001</td>\n",
       "      <td>85.949998</td>\n",
       "      <td>83.820003</td>\n",
       "      <td>211815100</td>\n",
       "    </tr>\n",
       "    <tr>\n",
       "      <th>2</th>\n",
       "      <td>2007-01-05</td>\n",
       "      <td>85.049997</td>\n",
       "      <td>85.770000</td>\n",
       "      <td>86.199997</td>\n",
       "      <td>84.400002</td>\n",
       "      <td>208685400</td>\n",
       "    </tr>\n",
       "    <tr>\n",
       "      <th>3</th>\n",
       "      <td>2007-01-08</td>\n",
       "      <td>85.470000</td>\n",
       "      <td>85.959998</td>\n",
       "      <td>86.529998</td>\n",
       "      <td>85.280003</td>\n",
       "      <td>199276700</td>\n",
       "    </tr>\n",
       "    <tr>\n",
       "      <th>4</th>\n",
       "      <td>2007-01-09</td>\n",
       "      <td>92.570003</td>\n",
       "      <td>86.450003</td>\n",
       "      <td>92.979999</td>\n",
       "      <td>85.150000</td>\n",
       "      <td>837324600</td>\n",
       "    </tr>\n",
       "  </tbody>\n",
       "</table>\n",
       "</div>"
      ],
      "text/plain": [
       "         date      close       open       high        low     volume\n",
       "0  2007-01-03  83.800002  86.289999  86.579999  81.899999  309579900\n",
       "1  2007-01-04  85.659998  84.050001  85.949998  83.820003  211815100\n",
       "2  2007-01-05  85.049997  85.770000  86.199997  84.400002  208685400\n",
       "3  2007-01-08  85.470000  85.959998  86.529998  85.280003  199276700\n",
       "4  2007-01-09  92.570003  86.450003  92.979999  85.150000  837324600"
      ]
     },
     "execution_count": 3,
     "metadata": {},
     "output_type": "execute_result"
    }
   ],
   "source": [
    "import pandas as pd\n",
    "import os\n",
    "\n",
    "stocks = {}\n",
    "\n",
    "for fn in os.listdir(\"prices\"):\n",
    "    # Each file is in format: stockprice.csv\n",
    "    stocks[fn.split('.')[0]] = pd.read_csv(os.path.join(\"prices\", fn))\n",
    "    \n",
    "stocks['aapl'].head()"
   ]
  },
  {
   "cell_type": "markdown",
   "metadata": {},
   "source": [
    "## Minimum and Maximum Average Closing Prices\n",
    "\n",
    "We'll compute aggregates for the following:\n",
    "\n",
    "* The average closing price of each stock.\n",
    "* The minimum average closing price over all stocks.\n",
    "* The maximum average closing price over all stocks."
   ]
  },
  {
   "cell_type": "code",
   "execution_count": 7,
   "metadata": {},
   "outputs": [
    {
     "name": "stdout",
     "output_type": "stream",
     "text": [
      "Minimum: blfs\n",
      "0.8122763011583011\n",
      "Maximum: amzn\n",
      "275.13407757104255\n"
     ]
    }
   ],
   "source": [
    "average_closing = {}\n",
    "\n",
    "for stock in stocks:\n",
    "    average_closing[stock] = stocks[stock]['close'].mean()\n",
    "    \n",
    "min_avg_closing_price = min(average_closing, key=average_closing.get)\n",
    "max_avg_closing_price = max(average_closing, key=average_closing.get)\n",
    "\n",
    "print('Minimum: ' + str(min_avg_closing_price))\n",
    "print(average_closing[min_avg_closing_price])\n",
    "print('Maximum: ' + str(max_avg_closing_price))\n",
    "print(average_closing[max_avg_closing_price])"
   ]
  },
  {
   "cell_type": "markdown",
   "metadata": {},
   "source": [
    "## Grouping Trades per Day\n",
    "\n",
    "We'll organize trades per day for future analysis."
   ]
  },
  {
   "cell_type": "code",
   "execution_count": 9,
   "metadata": {},
   "outputs": [],
   "source": [
    "trades_by_day = {}\n",
    "    \n",
    "for stock in stocks:\n",
    "    for idx, row in stocks[stock].iterrows():\n",
    "        day = row[\"date\"]\n",
    "        volume = row[\"volume\"]\n",
    "        pair = (volume, stock)\n",
    "        if day not in trades_by_day:\n",
    "            trades_by_day[day] = []\n",
    "        trades_by_day[day].append(pair)"
   ]
  },
  {
   "cell_type": "markdown",
   "metadata": {},
   "source": [
    "## Finding the Most Traded Stock Each Day\n",
    "\n",
    "We'll look now at finding the most traded stock each day."
   ]
  },
  {
   "cell_type": "code",
   "execution_count": 14,
   "metadata": {},
   "outputs": [],
   "source": [
    "most_traded_by_day = {}\n",
    "\n",
    "for day in trades_by_day:\n",
    "    trades_by_day[day].sort()\n",
    "    most_traded_by_day[day] = trades_by_day[day][-1]"
   ]
  },
  {
   "cell_type": "code",
   "execution_count": 15,
   "metadata": {},
   "outputs": [
    {
     "name": "stdout",
     "output_type": "stream",
     "text": [
      "(309579900, 'aapl')\n",
      "(211815100, 'aapl')\n",
      "(208685400, 'aapl')\n",
      "(199276700, 'aapl')\n"
     ]
    }
   ],
   "source": [
    "print(most_traded_by_day['2007-01-03'])\n",
    "print(most_traded_by_day['2007-01-04'])\n",
    "print(most_traded_by_day['2007-01-05'])\n",
    "print(most_traded_by_day['2007-01-08'])"
   ]
  },
  {
   "cell_type": "markdown",
   "metadata": {},
   "source": [
    "## Searching for High Volume Days\n",
    "\n",
    "We will now find the top 10 days with the most trade volume."
   ]
  },
  {
   "cell_type": "code",
   "execution_count": 16,
   "metadata": {},
   "outputs": [
    {
     "name": "stdout",
     "output_type": "stream",
     "text": [
      "[(0, 'apps'), (0, 'asrvp'), (0, 'atlo'), (0, 'aubn'), (0, 'banfp')]\n"
     ]
    }
   ],
   "source": [
    "print(trades_by_day['2007-01-03'][0:5])"
   ]
  },
  {
   "cell_type": "code",
   "execution_count": 19,
   "metadata": {},
   "outputs": [
    {
     "data": {
      "text/plain": [
       "[(1533363200, '2008-01-24'),\n",
       " (1536176400, '2008-01-16'),\n",
       " (1553880500, '2007-11-08'),\n",
       " (1555072400, '2008-09-29'),\n",
       " (1559032100, '2008-02-07'),\n",
       " (1578877700, '2008-01-22'),\n",
       " (1599183500, '2008-10-08'),\n",
       " (1611272800, '2007-07-26'),\n",
       " (1770266900, '2008-10-10'),\n",
       " (1964583900, '2008-01-23')]"
      ]
     },
     "execution_count": 19,
     "metadata": {},
     "output_type": "execute_result"
    }
   ],
   "source": [
    "volume_per_day = []\n",
    "\n",
    "for day in trades_by_day:\n",
    "    day_volume = sum([volume for volume, _ in trades_by_day[day]])\n",
    "    volume_per_day.append((day_volume, day))\n",
    "\n",
    "volume_per_day.sort()\n",
    "\n",
    "volume_per_day[-10:]"
   ]
  },
  {
   "cell_type": "markdown",
   "metadata": {},
   "source": [
    "## Finding Profitable Stocks\n",
    "\n",
    "Now we will look at finding the most profitable stocks by:\n",
    "\n",
    "* Subtracting the initial close price (first row) from the final close price (last row), then computing a percentage relative to the initial price. This will tell us how much our initial investment would have grown or shrunk.\n",
    "* Sorting all of the percentages.\n",
    "* Finding the ten stocks that grew the most in the time period."
   ]
  },
  {
   "cell_type": "code",
   "execution_count": 22,
   "metadata": {},
   "outputs": [
    {
     "data": {
      "text/plain": [
       "[(1330.0000666666667, 'achc'),\n",
       " (1339.2137535980346, 'bcli'),\n",
       " (1525.162516251625, 'cui'),\n",
       " (1549.6700659868027, 'apdn'),\n",
       " (1707.3554472785036, 'anip'),\n",
       " (2230.7234281466817, 'amzn'),\n",
       " (2437.4365640858978, 'blfs'),\n",
       " (3898.6004898285596, 'arcw'),\n",
       " (4005.0000000000005, 'adxs'),\n",
       " (7483.8389225948395, 'admp')]"
      ]
     },
     "execution_count": 22,
     "metadata": {},
     "output_type": "execute_result"
    }
   ],
   "source": [
    "percentages = []\n",
    "\n",
    "for stock in stocks:\n",
    "    prices = stocks[stock]\n",
    "    initial = prices.loc[0, \"close\"]\n",
    "    final = prices.loc[prices.shape[0] - 1, \"close\"]\n",
    "    percentage = 100 * (final - initial) / initial\n",
    "    percentages.append((percentage, stock))\n",
    "\n",
    "percentages.sort()\n",
    "\n",
    "percentages[-10:]"
   ]
  },
  {
   "cell_type": "code",
   "execution_count": null,
   "metadata": {},
   "outputs": [],
   "source": []
  }
 ],
 "metadata": {
  "kernelspec": {
   "display_name": "Python 3",
   "language": "python",
   "name": "python3"
  },
  "language_info": {
   "codemirror_mode": {
    "name": "ipython",
    "version": 3
   },
   "file_extension": ".py",
   "mimetype": "text/x-python",
   "name": "python",
   "nbconvert_exporter": "python",
   "pygments_lexer": "ipython3",
   "version": "3.8.2"
  }
 },
 "nbformat": 4,
 "nbformat_minor": 1
}
