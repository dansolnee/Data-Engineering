{
 "cells": [
  {
   "cell_type": "markdown",
   "metadata": {},
   "source": [
    "# Building Fast Queries on a CSV\n",
    "\n",
    "For this project, we will imagine that we own an online laptop store and want to build a way to answer a few different business questions about our inventory.\n",
    "\n",
    "The dataset is found [here](https://www.kaggle.com/ionaskel/laptop-prices) with some edits to IDs and integer prices."
   ]
  },
  {
   "cell_type": "code",
   "execution_count": 63,
   "metadata": {},
   "outputs": [
    {
     "name": "stdout",
     "output_type": "stream",
     "text": [
      "['Id', 'Company', 'Product', 'TypeName', 'Inches', 'ScreenResolution', 'Cpu', 'Ram', 'Memory', 'Gpu', 'OpSys', 'Weight', 'Price']\n",
      "------\n",
      "['6571244', 'Apple', 'MacBook Pro', 'Ultrabook', '13.3', 'IPS Panel Retina Display 2560x1600', 'Intel Core i5 2.3GHz', '8GB', '128GB SSD', 'Intel Iris Plus Graphics 640', 'macOS', '1.37kg', '1339']\n",
      "------\n",
      "['7287764', 'Apple', 'Macbook Air', 'Ultrabook', '13.3', '1440x900', 'Intel Core i5 1.8GHz', '8GB', '128GB Flash Storage', 'Intel HD Graphics 6000', 'macOS', '1.34kg', '898']\n",
      "------\n",
      "['3362737', 'HP', '250 G6', 'Notebook', '15.6', 'Full HD 1920x1080', 'Intel Core i5 7200U 2.5GHz', '8GB', '256GB SSD', 'Intel HD Graphics 620', 'No OS', '1.86kg', '575']\n",
      "------\n",
      "['9722156', 'Apple', 'MacBook Pro', 'Ultrabook', '15.4', 'IPS Panel Retina Display 2880x1800', 'Intel Core i7 2.7GHz', '16GB', '512GB SSD', 'AMD Radeon Pro 455', 'macOS', '1.83kg', '2537']\n",
      "------\n",
      "['8550527', 'Apple', 'MacBook Pro', 'Ultrabook', '13.3', 'IPS Panel Retina Display 2560x1600', 'Intel Core i5 3.1GHz', '8GB', '256GB SSD', 'Intel Iris Plus Graphics 650', 'macOS', '1.37kg', '1803']\n",
      "------\n"
     ]
    }
   ],
   "source": [
    "import csv\n",
    "\n",
    "with open('laptops.csv') as f:\n",
    "    reader = csv.reader(f)\n",
    "    rows = list(reader)\n",
    "    header = rows[0]\n",
    "    rows = rows[1:]\n",
    "    \n",
    "print(header)\n",
    "print('------')\n",
    "\n",
    "for i in range(5):\n",
    "    print(rows[i])\n",
    "    print('------')"
   ]
  },
  {
   "cell_type": "markdown",
   "metadata": {},
   "source": [
    "## Inventory Class\n",
    "\n",
    "The goal of this project is to create a class that represents our inventory. The methods in that class will implement the queries that we want to answer about our inventory. We will also pre-process that data to make those queries run faster.\n",
    "\n",
    "Here are some queries that we will want to answer:\n",
    "* Given a laptop id, find the corresponding data.\n",
    "* Given an amount of money, find whether there are two laptops whose total price is that given amount.\n",
    "* Identify all laptops whose price falls within a given budget."
   ]
  },
  {
   "cell_type": "code",
   "execution_count": 64,
   "metadata": {},
   "outputs": [
    {
     "name": "stdout",
     "output_type": "stream",
     "text": [
      "['Id', 'Company', 'Product', 'TypeName', 'Inches', 'ScreenResolution', 'Cpu', 'Ram', 'Memory', 'Gpu', 'OpSys', 'Weight', 'Price']\n",
      "-----\n",
      "1303\n"
     ]
    }
   ],
   "source": [
    "class Inventory():\n",
    "\n",
    "    def __init__(self, csv_filename: str) -> None:\n",
    "        '''\n",
    "        Inventory should be initiated with a string for a csv file in the working directory\n",
    "        '''\n",
    "        \n",
    "        # Open the file and generate the data\n",
    "        with open(csv_filename) as f:\n",
    "            reader = csv.reader(f)\n",
    "            rows = list(reader)\n",
    "            self.header = rows[0]\n",
    "            self.rows = rows[1:]\n",
    "            \n",
    "        # Cast the price to an integer\n",
    "        for row in self.rows:\n",
    "            row[-1] = int(row[-1])\n",
    "            \n",
    "inventory = Inventory('laptops.csv')\n",
    "print(inventory.header)\n",
    "print('-----')\n",
    "print(len(inventory.rows))"
   ]
  },
  {
   "cell_type": "markdown",
   "metadata": {},
   "source": [
    "## Finding a Laptop from the ID\n",
    "\n",
    "The first thing that we will implement is a way to look up a laptop from a given identifier. In this way, when a customer comes to our store with a purchase slip, we can quickly identify the laptop to which it corresponds.\n",
    "\n",
    "This part will satisfy this query: Given a laptop id, find the corresponding data."
   ]
  },
  {
   "cell_type": "code",
   "execution_count": 65,
   "metadata": {},
   "outputs": [
    {
     "name": "stdout",
     "output_type": "stream",
     "text": [
      "['3362737', 'HP', '250 G6', 'Notebook', '15.6', 'Full HD 1920x1080', 'Intel Core i5 7200U 2.5GHz', '8GB', '256GB SSD', 'Intel HD Graphics 620', 'No OS', '1.86kg', 575]\n",
      "-----\n",
      "None\n"
     ]
    }
   ],
   "source": [
    "# To extend the functionality, we can make the class a subclass of itself\n",
    "class Inventory(Inventory):\n",
    "            \n",
    "    def get_laptop_from_id(self, laptop_id: str) -> list[any] | None:\n",
    "        '''\n",
    "        Returns the row with the target laptop_id in element 0\n",
    "        '''\n",
    "        for row in self.rows:\n",
    "            if row[0] == laptop_id:\n",
    "                return row\n",
    "        return None\n",
    "    \n",
    "inventory = Inventory('laptops.csv')\n",
    "print(inventory.get_laptop_from_id('3362737'))\n",
    "print('-----')\n",
    "print(inventory.get_laptop_from_id('3362736'))"
   ]
  },
  {
   "cell_type": "markdown",
   "metadata": {},
   "source": [
    "## Improving Id Lookups\n",
    "\n",
    "In our dataset, we only have about 1,300 laptops, so it might seem unnecessary to improve the performance of this query. However, you have to imagine that this code could be used in situations where the inventory contains millions of rows. Also, if we perform a lot of queries, even on a small dataset, the slow query performance will start to add up. It might eventually become the bottleneck of the application.\n",
    "\n",
    "Here we look to improve the performance."
   ]
  },
  {
   "cell_type": "code",
   "execution_count": 66,
   "metadata": {},
   "outputs": [
    {
     "name": "stdout",
     "output_type": "stream",
     "text": [
      "['3362737', 'HP', '250 G6', 'Notebook', '15.6', 'Full HD 1920x1080', 'Intel Core i5 7200U 2.5GHz', '8GB', '256GB SSD', 'Intel HD Graphics 620', 'No OS', '1.86kg', 575]\n",
      "-----\n",
      "None\n"
     ]
    }
   ],
   "source": [
    "class Inventory(Inventory):\n",
    "\n",
    "    def __init__(self, csv_filename):\n",
    "        \n",
    "        # Open the file and generate the data\n",
    "        with open(csv_filename) as f:\n",
    "            reader = csv.reader(f)\n",
    "            rows = list(reader)\n",
    "            self.header = rows[0]\n",
    "            self.rows = rows[1:]\n",
    "            \n",
    "        # Cast the price to an integer\n",
    "        for row in self.rows:\n",
    "            row[-1] = int(row[-1])\n",
    "        \n",
    "        # Creates a dictionary to populate with the ids and rows\n",
    "        self.id_to_row = {}\n",
    "        for row in self.rows:\n",
    "            self.id_to_row[row[0]] = row\n",
    "    \n",
    "    def get_laptop_from_id_fast(self, laptop_id: str) -> list[any] | None:\n",
    "        '''\n",
    "        Same as get_laptop_from_id except using a dictionary created in the instance\n",
    "        '''\n",
    "        if laptop_id in self.id_to_row:\n",
    "            return self.id_to_row[laptop_id]\n",
    "        return None\n",
    "    \n",
    "\n",
    "inventory = Inventory('laptops.csv')\n",
    "print(inventory.get_laptop_from_id_fast('3362737'))\n",
    "print('-----')\n",
    "print(inventory.get_laptop_from_id_fast('3362736'))"
   ]
  },
  {
   "cell_type": "markdown",
   "metadata": {},
   "source": [
    "## Comparing the Performance\n",
    "\n",
    "Let's experiment to compare the performance of the two methods. The idea is to generate random IDs using the random module. Then, use both methods to lookup these same IDs and compare using the time module."
   ]
  },
  {
   "cell_type": "code",
   "execution_count": 67,
   "metadata": {},
   "outputs": [
    {
     "name": "stdout",
     "output_type": "stream",
     "text": [
      "The amount of time with no dictionary is: 0.9747114181518555\n",
      "The amount of time with a dictionary is: 0.003222227096557617\n",
      "That is a difference of a factor of: 302.4961894191639\n"
     ]
    }
   ],
   "source": [
    "import time\n",
    "import random\n",
    "\n",
    "id_values = [str(random.randint(1000000, 9999999)) for _ in range(10000)]\n",
    "\n",
    "# Method timing with no dictionary\n",
    "total_time_no_dict = 0\n",
    "for id in id_values:\n",
    "    start = time.time()\n",
    "    inventory.get_laptop_from_id(id)\n",
    "    end = time.time()\n",
    "    total_time_no_dict += end - start\n",
    "    \n",
    "# Method timing with a dictionary\n",
    "total_time_dict = 0\n",
    "for id in id_values:\n",
    "    start = time.time()\n",
    "    inventory.get_laptop_from_id_fast(id)\n",
    "    end = time.time()\n",
    "    total_time_dict += end - start\n",
    "    \n",
    "print('The amount of time with no dictionary is: ' + str(total_time_no_dict))\n",
    "print('The amount of time with a dictionary is: ' + str(total_time_dict))\n",
    "print('That is a difference of a factor of: ' + str(total_time_no_dict/total_time_dict))"
   ]
  },
  {
   "cell_type": "markdown",
   "metadata": {},
   "source": [
    "## Two Laptop Promotion\n",
    "\n",
    "Sometimes, your store offers a promotion where you give a gift card. A customer can use the gift to buy up to two laptops. To avoid having to keep track of what was already spent, the gift card has a single time usage. This means that, even if there is leftover money, it cannot be used anymore.\n",
    "\n",
    "We will add a function that, given a dollar amount, checks whether it is possible to spend precisely that amount by purchasing up to two laptops. This part will satisfy this query: Given an amount of money, find whether there are two laptops whose total price is that given amount."
   ]
  },
  {
   "cell_type": "code",
   "execution_count": 68,
   "metadata": {},
   "outputs": [
    {
     "name": "stdout",
     "output_type": "stream",
     "text": [
      "True\n",
      "False\n"
     ]
    }
   ],
   "source": [
    "class Inventory(Inventory):\n",
    " \n",
    "    def check_promotion_dollars(self, dollars: int) -> bool:    \n",
    "        '''\n",
    "        Takes as input the number of dollars and returns a boolean if one or two laptops totals that amount exactly\n",
    "        '''\n",
    "        \n",
    "        # if one laptop fits the criteria\n",
    "        for row in self.rows:\n",
    "            if row[-1] == dollars:\n",
    "                return True\n",
    "        \n",
    "        # if two laptops fit the criteria\n",
    "        for row1 in self.rows:\n",
    "            for row2 in self.rows:\n",
    "                if row1[-1] + row2[-1] == dollars:\n",
    "                    return True\n",
    "        \n",
    "        return False\n",
    "    \n",
    "inventory = Inventory('laptops.csv')\n",
    "print(inventory.check_promotion_dollars(1000))\n",
    "print(inventory.check_promotion_dollars(442))"
   ]
  },
  {
   "cell_type": "markdown",
   "metadata": {},
   "source": [
    "# Optimizing Laptop Promotion\n",
    "\n",
    "Since we only care about whether or not there is a solution, we can store all laptops prices in a set when we initialize the inventory. Then we can check in constant time whether there is a laptop with a given price."
   ]
  },
  {
   "cell_type": "code",
   "execution_count": 69,
   "metadata": {},
   "outputs": [
    {
     "name": "stdout",
     "output_type": "stream",
     "text": [
      "True\n",
      "False\n"
     ]
    }
   ],
   "source": [
    "class Inventory(Inventory):\n",
    "\n",
    "    def __init__(self, csv_filename):\n",
    "        \n",
    "        # Open the file and generate the data\n",
    "        with open(csv_filename) as f:\n",
    "            reader = csv.reader(f)\n",
    "            rows = list(reader)\n",
    "            self.header = rows[0]\n",
    "            self.rows = rows[1:]\n",
    "            \n",
    "        # Cast the price to an integer\n",
    "        for row in self.rows:\n",
    "            row[-1] = int(row[-1])\n",
    "        \n",
    "        # Creates a dictionary to populate with the ids and rows\n",
    "        self.id_to_row = {}\n",
    "        for row in self.rows:\n",
    "            self.id_to_row[row[0]] = row\n",
    "            \n",
    "        # Creates a set to populate the prices\n",
    "        self.prices = set()\n",
    "        for row in self.rows:\n",
    "            self.prices.add(row[-1])\n",
    "    \n",
    "    def check_promotion_dollars_fast(self, dollars: int) -> bool:    \n",
    "        '''\n",
    "        Same as check_promotion_dollars but uses the set created in the instance\n",
    "        '''\n",
    "        if dollars in self.prices:\n",
    "            return True\n",
    "        for price in self.prices:\n",
    "            if dollards - price in self.prices:\n",
    "                return True\n",
    "        \n",
    "        return False\n",
    "    \n",
    "inventory = Inventory('laptops.csv')\n",
    "print(inventory.check_promotion_dollars(1000))\n",
    "print(inventory.check_promotion_dollars(442))"
   ]
  },
  {
   "cell_type": "markdown",
   "metadata": {},
   "source": [
    "## Comparing Promotion Functions\n",
    "\n",
    "Let's experiment to compare the performance of the two methods. The idea is to generate random prices using the random module. Then, use both methods to lookup these same prices and compare using the time module."
   ]
  },
  {
   "cell_type": "code",
   "execution_count": 70,
   "metadata": {},
   "outputs": [
    {
     "name": "stdout",
     "output_type": "stream",
     "text": [
      "The amount of time with no set is: 0.016696453094482422\n",
      "The amount of time with a set is: 3.409385681152344e-05\n",
      "That is a difference of a factor of: 489.72027972027973\n"
     ]
    }
   ],
   "source": [
    "prices = [random.randint(100, 5000) for _ in range(100)]\n",
    "\n",
    "inventory = Inventory('laptops.csv')\n",
    "\n",
    "# Method with no set\n",
    "total_time_no_set = 0\n",
    "for price in prices:\n",
    "    start = time.time()\n",
    "    inventory.get_laptop_from_id(price)\n",
    "    end = time.time()\n",
    "    total_time_no_set += end - start\n",
    "    \n",
    "# Method with set\n",
    "total_time_set = 0\n",
    "for price in prices:\n",
    "    start = time.time()\n",
    "    inventory.get_laptop_from_id_fast(price)\n",
    "    end = time.time()\n",
    "    total_time_set += end - start\n",
    "    \n",
    "print('The amount of time with no set is: ' + str(total_time_no_set))\n",
    "print('The amount of time with a set is: ' + str(total_time_set))\n",
    "print('That is a difference of a factor of: ' + str(total_time_no_set/total_time_set))"
   ]
  },
  {
   "cell_type": "markdown",
   "metadata": {},
   "source": [
    "## Finding Laptops Within a Budget\n",
    "\n",
    "We want to write a method that efficiently answers the query: Given a budget of D dollars, find all laptops whose price it at most D.\n",
    "\n",
    "If we sort all laptops by price, we can use binary search to identify the first laptop in the sorted list with a price larger than D. We need to make sure that our binary search finds the first one on the list. Then, the result of the query will consist of all laptops whose index in the sorted list is smaller than the index of the first laptop whose price is higher than D dollars.\n",
    "\n",
    "This will answer the final of the initial set of queries: Identify all laptops whose price falls within a given budget.\n",
    "\n",
    "### Laptops Affordable in Budget\n",
    "\n",
    "First, we'll write a function that will answer which laptops are in budget."
   ]
  },
  {
   "cell_type": "code",
   "execution_count": 71,
   "metadata": {},
   "outputs": [
    {
     "name": "stdout",
     "output_type": "stream",
     "text": [
      "683\n",
      "-1\n"
     ]
    }
   ],
   "source": [
    "class Inventory(Inventory):\n",
    "\n",
    "    def __init__(self, csv_filename):\n",
    "        \n",
    "        # Open the file and generate the data\n",
    "        with open(csv_filename) as f:\n",
    "            reader = csv.reader(f)\n",
    "            rows = list(reader)\n",
    "            self.header = rows[0]\n",
    "            self.rows = rows[1:]\n",
    "            \n",
    "        # Cast the price to an integer\n",
    "        for row in self.rows:\n",
    "            row[-1] = int(row[-1])\n",
    "        \n",
    "        # Creates a dictionary to populate with the ids and rows\n",
    "        self.id_to_row = {}\n",
    "        for row in self.rows:\n",
    "            self.id_to_row[row[0]] = row\n",
    "            \n",
    "        # Creates a set to populate the prices\n",
    "        self.prices = set()\n",
    "        for row in self.rows:\n",
    "            self.prices.add(row[-1])\n",
    "            \n",
    "        # Creates a sorted list of rows by price\n",
    "        self.rows_by_price = sorted(self.rows, key=lambda x: x[-1])\n",
    "    \n",
    "    def find_first_laptop_more_expensive(self, target_price: int) -> int:\n",
    "        '''\n",
    "        Uses binary search to find the index for which laptops are greater than target_price\n",
    "        Any laptop at an index smaller than the above index is within target_price and can be recommended\n",
    "        Returns -1 if all laptops are lower than the target_price\n",
    "        '''\n",
    "        range_start = 0                                   \n",
    "        range_end = len(self.rows_by_price) - 1                   \n",
    "        \n",
    "        while range_start < range_end:\n",
    "            range_middle = (range_end + range_start) // 2  \n",
    "            price = self.rows_by_price[range_middle][-1]\n",
    "            \n",
    "            if price > target_price:\n",
    "                range_end = range_middle\n",
    "            else:\n",
    "                range_start = range_middle + 1\n",
    "        \n",
    "        if self.rows_by_price[range_start][-1] <= target_price:                  \n",
    "            return -1                                   \n",
    "        \n",
    "        return range_start\n",
    "\n",
    "inventory = Inventory('laptops.csv')\n",
    "print(inventory.find_first_laptop_more_expensive(1000))\n",
    "print(inventory.find_first_laptop_more_expensive(10000))"
   ]
  },
  {
   "cell_type": "markdown",
   "metadata": {},
   "source": [
    "### Laptops within a Budget Range\n",
    "\n",
    "Now, we'll find laptops in the given range."
   ]
  },
  {
   "cell_type": "code",
   "execution_count": 72,
   "metadata": {},
   "outputs": [
    {
     "name": "stdout",
     "output_type": "stream",
     "text": [
      "(682, 999)\n"
     ]
    }
   ],
   "source": [
    "class Inventory(Inventory):\n",
    "    \n",
    "    def find_laptops_within_budget(self, min_price: int, max_price: int) -> tuple[int,int]:\n",
    "        '''\n",
    "        Uses find_first_laptop_more_expensive to get and returns a tuple of indices of laptops within budget \n",
    "        for list slicing\n",
    "        '''\n",
    "        \n",
    "        min_index = self.find_first_laptop_more_expensive(min_price) - 1\n",
    "        max_index = self.find_first_laptop_more_expensive(max_price)\n",
    "        \n",
    "        return min_index, max_index\n",
    "    \n",
    "inventory = Inventory('laptops.csv')\n",
    "print(inventory.find_laptops_within_budget(1000,1500))"
   ]
  },
  {
   "cell_type": "markdown",
   "metadata": {},
   "source": [
    "## Cheapest Laptop with Certain Characteristics\n",
    "\n",
    "Sometimes, a customer wants a laptop with some characteristics such as, for instance, 8GB of RAM and a 256GB hard drive. For simplicity, we will focus only on the amount of RAM and hard drive capacity."
   ]
  },
  {
   "cell_type": "code",
   "execution_count": 77,
   "metadata": {},
   "outputs": [
    {
     "name": "stdout",
     "output_type": "stream",
     "text": [
      "['6571244', 'Apple', 'MacBook Pro', 'Ultrabook', '13.3', 'IPS Panel Retina Display 2560x1600', 'Intel Core i5 2.3GHz', '8GB', '128GB SSD', 'Intel Iris Plus Graphics 640', 'macOS', '1.37kg', 1339, 8, 3824690]\n"
     ]
    }
   ],
   "source": [
    "class Inventory(Inventory):\n",
    "\n",
    "    def __init__(self, csv_filename):\n",
    "        \n",
    "        # Open the file and generate the data\n",
    "        with open(csv_filename) as f:\n",
    "            reader = csv.reader(f)\n",
    "            rows = list(reader)\n",
    "            self.header = rows[0]\n",
    "            self.rows = rows[1:]\n",
    "            \n",
    "        # Cast the price to an integer\n",
    "        for row in self.rows:\n",
    "            row[-1] = int(row[-1])\n",
    "        \n",
    "        # Creates a dictionary to populate with the ids and rows\n",
    "        self.id_to_row = {}\n",
    "        for row in self.rows:\n",
    "            self.id_to_row[row[0]] = row\n",
    "            \n",
    "        # Creates a set to populate the prices\n",
    "        self.prices = set()\n",
    "        for row in self.rows:\n",
    "            self.prices.add(row[-1])\n",
    "            \n",
    "        # Creates a sorted list of rows by price\n",
    "        self.rows_by_price = sorted(self.rows, key=lambda x: x[-1])\n",
    "        \n",
    "        # Creates new columns for each row of RAM (index 7) and memory (index 8)\n",
    "        self.header.append('int_ram')\n",
    "        self.header.append('int_memory')\n",
    "        for row in self.rows:\n",
    "            nums = ''\n",
    "            for char in row[7]:\n",
    "                if char.isdigit():\n",
    "                    nums += char\n",
    "                else:\n",
    "                    break\n",
    "            row.append(int(nums))\n",
    "            nums = ''\n",
    "            for char in rows[8]:\n",
    "                if char.isdigit():\n",
    "                    nums += char\n",
    "                else:\n",
    "                    break\n",
    "            row.append(int(nums))\n",
    "        \n",
    "        # Creates a sorted list of rows by ram then hard drive then price\n",
    "        self.rows_by_ram_memory_price = sorted(self.rows, key = lambda x: (x[-2],x[-1]))\n",
    "        \n",
    "    def find_cheapest_laptop_by_ram_and_memory(self, ram: int, memory: int) -> list[any] | None:\n",
    "        '''\n",
    "        Using the sorted list rows_by_ram_memory_price, it finds the first match where the row's ram and then memory\n",
    "        are equal or greater than arguments\n",
    "        '''\n",
    "\n",
    "        # Find ram\n",
    "        for i, row in enumerate(self.rows_by_ram_memory_price):\n",
    "            if row[-2] >= ram:\n",
    "                if row[-1] >= memory:\n",
    "                    return self.rows_by_ram_memory_price[i]\n",
    "        return None\n",
    "                \n",
    "inventory = Inventory('laptops.csv')\n",
    "print(inventory.find_cheapest_laptop_by_ram_and_memory(8,256))"
   ]
  },
  {
   "cell_type": "markdown",
   "metadata": {},
   "source": [
    "## Conclusion\n",
    "\n",
    "In this project, we created a class to represent the inventory of a laptop shop and discovered that preprocessing data allows for more effective queries.\n",
    "\n",
    "We created queries for finding a laptop by id, price, and characteristics. Future work would be to add additional query functionality or optimize any queries further depending on further features."
   ]
  }
 ],
 "metadata": {
  "kernelspec": {
   "display_name": "Python 3 (ipykernel)",
   "language": "python",
   "name": "python3"
  },
  "language_info": {
   "codemirror_mode": {
    "name": "ipython",
    "version": 3
   },
   "file_extension": ".py",
   "mimetype": "text/x-python",
   "name": "python",
   "nbconvert_exporter": "python",
   "pygments_lexer": "ipython3",
   "version": "3.10.0"
  }
 },
 "nbformat": 4,
 "nbformat_minor": 2
}
