{
 "cells": [
  {
   "cell_type": "markdown",
   "metadata": {
    "collapsed": true
   },
   "source": [
    "# Evaluating Numerical Expressions\n",
    "\n",
    "In this project, we will use stacks to implement an algorithm that can evaluate numerical expressions.\n",
    "\n",
    "First we will import a class from another file and then create a Stack class."
   ]
  },
  {
   "cell_type": "code",
   "execution_count": 1,
   "metadata": {},
   "outputs": [],
   "source": [
    "from linked_list import LinkedList\n",
    "\n",
    "class Stack(LinkedList):\n",
    "    \n",
    "    def push(self, data):\n",
    "        self.append(data)\n",
    "\n",
    "    def peek(self):\n",
    "        return self.tail.data\n",
    "\n",
    "    def pop(self):\n",
    "        ret = self.tail.data\n",
    "        if self.length == 1:\n",
    "            self.tail = self.head = None\n",
    "        else:\n",
    "            self.tail = self.tail.prev\n",
    "            self.tail.next = None\n",
    "        self.length -= 1\n",
    "        return ret"
   ]
  },
  {
   "cell_type": "markdown",
   "metadata": {},
   "source": [
    "## Implementing the Tokenize Function - Infix vs Postfix Notation\n",
    "\n",
    "When we write an expression, we use infix notation, meaning that we put the operators between the two operands. For example 1 + 2 is in infix notation because the + operator is between the operands 1 and 2.\n",
    "\n",
    "For a computer, it's much easier to evaluate an expression written in postfix notation. In postfix notation, the operands appear before the operator. The infix expression 1 + 2 becomes 1 2 + in postfix notation.\n",
    "\n",
    "In the context of evaluating expressions, we call these elements tokens, and the term for transforming the expression into a list of tokens is tokenize.\n",
    "\n",
    "We will do that below."
   ]
  },
  {
   "cell_type": "code",
   "execution_count": 2,
   "metadata": {},
   "outputs": [
    {
     "name": "stdout",
     "output_type": "stream",
     "text": [
      "['12', '2', '4', '+', '/', '21', '*']\n"
     ]
    }
   ],
   "source": [
    "def tokenize(expression):\n",
    "    return expression.split()\n",
    "\n",
    "print(tokenize(\"12 2 4 + / 21 *\"))"
   ]
  },
  {
   "cell_type": "markdown",
   "metadata": {},
   "source": [
    "# Processing an Operator\n",
    "\n",
    "1. If we find a number, then we push that number to the top of the stack.\n",
    "2. If we find an operator, we pop the top two elements of the stack, perform the operation, and then push back the result.\n",
    "\n",
    "We need to handle processing the operators which we will do below:"
   ]
  },
  {
   "cell_type": "code",
   "execution_count": 3,
   "metadata": {},
   "outputs": [],
   "source": [
    "def process_minus(stack):\n",
    "    top = stack.pop()\n",
    "    second_to_top = stack.pop()\n",
    "    result = second_to_top - top\n",
    "    stack.push(result)\n",
    "    \n",
    "def process_plus(stack):\n",
    "    top = stack.pop()\n",
    "    second_to_top = stack.pop()\n",
    "    # Same as process_minus but with + instead of -\n",
    "    result = second_to_top + top\n",
    "    stack.push(result)\n",
    "    \n",
    "def process_times(stack):\n",
    "    top = stack.pop()\n",
    "    second_to_top = stack.pop()\n",
    "    # Same as process_minus but with * instead of -\n",
    "    result = second_to_top * top\n",
    "    stack.push(result)\n",
    "\n",
    "def process_divide(stack):\n",
    "    top = stack.pop()\n",
    "    second_to_top = stack.pop()\n",
    "    # Same as process_minus but with / instead of -\n",
    "    result = second_to_top / top\n",
    "    stack.push(result)\n",
    "    \n",
    "def process_pow(stack):\n",
    "    top = stack.pop()\n",
    "    second_to_top = stack.pop()\n",
    "    # Same as process_minus but with ** instead of -\n",
    "    result = second_to_top ** top\n",
    "    stack.push(result)"
   ]
  },
  {
   "cell_type": "markdown",
   "metadata": {},
   "source": [
    "## Evaluating Postfix Expressions\n",
    "\n",
    "We will do the following for evaluating postfix expressions:\n",
    "\n",
    "1. Tokenize the expression using the tokenize() function\n",
    "2. Initialize an empty stack\n",
    "3. For each token, do the following:\n",
    "    * If the token is an operator, call the corresponding function to process it. For example, if we find a +, we call the process_plus() function.\n",
    "    * Otherwise (the token is a number) we push that number to the top of the stack. Since each token is a string, we'll need to convert it to a float first.\n",
    "4. Return the value that is left in the stack."
   ]
  },
  {
   "cell_type": "code",
   "execution_count": 4,
   "metadata": {},
   "outputs": [],
   "source": [
    "def evaluate_postfix(expression):\n",
    "    tokens = tokenize(expression)\n",
    "    stack = Stack()\n",
    "    for token in tokens:\n",
    "        if token == \"+\":\n",
    "            process_plus(stack)\n",
    "        elif token == \"-\":\n",
    "            process_minus(stack)\n",
    "        elif token == \"*\":\n",
    "            process_times(stack)\n",
    "        elif token == \"/\":\n",
    "            process_divide(stack)\n",
    "        elif token == \"**\":\n",
    "            process_pow(stack)\n",
    "        else:\n",
    "            # The token is not an operator so it must be a number\n",
    "            stack.push(float(token))\n",
    "    return stack.pop()"
   ]
  },
  {
   "cell_type": "code",
   "execution_count": 5,
   "metadata": {},
   "outputs": [
    {
     "name": "stdout",
     "output_type": "stream",
     "text": [
      "-2.0\n",
      "8.0\n",
      "0.0\n",
      "2.0\n",
      "11.25\n",
      "45.0\n",
      "42.0\n",
      "4.0\n",
      "2.0\n"
     ]
    }
   ],
   "source": [
    "expressions = [\n",
    "    \"4 6 -\",\n",
    "    \"4 1 2 9 3 / * + 5 - *\",\n",
    "    \"1 2 + 3 -\",\n",
    "    \"1 2 - 3 +\",\n",
    "    \"10 3 5 * 16 4 - / +\",\n",
    "    \"5 3 4 2 - ** *\",\n",
    "    \"12 2 4 + / 21 *\",\n",
    "    \"1 1 + 2 **\",\n",
    "    \"1 1 2 ** +\"\n",
    "]\n",
    "\n",
    "for exp in expressions:\n",
    "    print(evaluate_postfix(exp))"
   ]
  },
  {
   "cell_type": "markdown",
   "metadata": {},
   "source": [
    "## Operator Precedence in Infix Notation\n",
    "\n",
    "To convert an expression from infix to postfix, we'll implement the Shunting-yard algorithm. The data structure to implement this algorithm is (again) a stack."
   ]
  },
  {
   "cell_type": "code",
   "execution_count": 6,
   "metadata": {},
   "outputs": [
    {
     "name": "stdout",
     "output_type": "stream",
     "text": [
      "False\n",
      "True\n",
      "False\n",
      "True\n"
     ]
    }
   ],
   "source": [
    "precedence = {\n",
    "    \"+\": 1,\n",
    "    \"-\": 1,\n",
    "    \"*\": 2,\n",
    "    \"/\": 2,\n",
    "    \"**\": 3\n",
    "}\n",
    "\n",
    "print(precedence[\"/\"] < precedence[\"-\"])\n",
    "print(precedence[\"+\"] < precedence[\"*\"])\n",
    "print(precedence[\"+\"] < precedence[\"-\"])\n",
    "print(precedence[\"/\"] < precedence[\"**\"])"
   ]
  },
  {
   "cell_type": "markdown",
   "metadata": {},
   "source": [
    "## Processing Tokens in Infix to Postfix\n",
    "\n",
    "Here's how processing should go for each token:\n",
    "\n",
    "* Opening parenthesis, (:\n",
    " * Push the token into the stack for later use when we find a closing parenthesis.\n",
    "* Closing parenthesis ):\n",
    " * While the top of the stack isn't an opening parenthesis, (, pop the top element, and append it to the postfix token list.\n",
    " * Pop the opening parentheses out of the stack at the end.\n",
    "* Operator, +, -, *, /, or **:\n",
    " * While the top of the stack is also an operator with a precedence greater than or equal to this operator, pop the top element, and append it to the postfix token list.\n",
    " * Push the current operator to the top of the stack\n",
    "* Operand (any number):\n",
    " * Append the number to the postfix token list."
   ]
  },
  {
   "cell_type": "code",
   "execution_count": 7,
   "metadata": {},
   "outputs": [],
   "source": [
    "def process_opening_parenthesis(stack):\n",
    "    stack.push(\"(\")\n",
    "    \n",
    "def process_closing_parenthesis(stack, postfix):\n",
    "    # Add tokens until we find the open bracket\n",
    "    while stack.peek() != \"(\":\n",
    "        postfix.append(stack.pop())\n",
    "    # Remove the opening bracket\n",
    "    stack.pop()\n",
    "    \n",
    "def process_operator(stack, postfix, operator):\n",
    "    while len(stack) > 0 and stack.peek() in precedence and precedence[stack.peek()] >= precedence[operator]:\n",
    "        postfix.append(stack.pop())\n",
    "    stack.push(operator)\n",
    "    \n",
    "def process_number(postfix, number):\n",
    "    postfix.append(number)"
   ]
  },
  {
   "cell_type": "markdown",
   "metadata": {},
   "source": [
    "## Implementing the Shunting-yard Algorithm\n",
    "\n",
    "This function will work as follows:\n",
    "\n",
    "1. We start by splitting the expression into tokens using the tokenize() function.\n",
    "2. We initialize an empty stack.\n",
    "3. We initialize an empty postfix token list.\n",
    "4. Iterate over all tokens, and for each, do the following:\n",
    " * If the token is \"(\", we call the process_opening_parenthesis() function.\n",
    " * If the token is \")\", we call the process_closing_parenthesis() function.\n",
    " * If the token is an operator, we call the process_operator() function.\n",
    " * Otherwise, the token is a number, and we call the process_number() function.\n",
    "5. After processing all tokens, we use a while loop to pop the remaining stack element into the postfix token list.\n",
    "6. Use the str.join() method to convert the postfix token list into a string."
   ]
  },
  {
   "cell_type": "code",
   "execution_count": 8,
   "metadata": {},
   "outputs": [],
   "source": [
    "def infix_to_postfix(expression):\n",
    "    tokens = tokenize(expression)\n",
    "    stack = Stack()\n",
    "    postfix = []\n",
    "    for token in tokens:\n",
    "        if token == \"(\":\n",
    "            process_opening_parenthesis(stack)\n",
    "        elif token == \")\":\n",
    "            process_closing_parenthesis(stack, postfix)\n",
    "        elif token in precedence:\n",
    "            process_operator(stack, postfix, token)\n",
    "        else:\n",
    "            process_number(postfix, token)\n",
    "    while len(stack) > 0:\n",
    "        postfix.append(stack.pop())\n",
    "    return \" \".join(postfix)"
   ]
  },
  {
   "cell_type": "markdown",
   "metadata": {},
   "source": [
    "## Evaluating Infix Expre"
   ]
  }
 ],
 "metadata": {
  "kernelspec": {
   "display_name": "Python 3",
   "language": "python",
   "name": "python3"
  },
  "language_info": {
   "codemirror_mode": {
    "name": "ipython",
    "version": 3
   },
   "file_extension": ".py",
   "mimetype": "text/x-python",
   "name": "python",
   "nbconvert_exporter": "python",
   "pygments_lexer": "ipython3",
   "version": "3.8.2"
  }
 },
 "nbformat": 4,
 "nbformat_minor": 1
}
