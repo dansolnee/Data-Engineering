{
 "cells": [
  {
   "cell_type": "markdown",
   "metadata": {
    "collapsed": true
   },
   "source": [
    "# Implementing a Key-Value Database\n",
    "\n",
    "A key-value store is a database that operates similar to a Python dictionary. Our key-value store will work like a Python dictionary, but it will also allow users to perform range queries. Our goal will be to create an easy-to-use, flexible, and adaptable key value store that other developers could use in their projects.\n",
    "\n",
    "## Importing and Initializing\n",
    "\n",
    "The first step is to import the BTree class and declare the KVStore class.\n",
    "\n",
    "This time, we'll fix the split threshold to equal two. Doing so will make testing easier since we won't have to write tests for several different split threshold values."
   ]
  },
  {
   "cell_type": "code",
   "execution_count": 8,
   "metadata": {},
   "outputs": [],
   "source": [
    "from btree import BTree\n",
    "\n",
    "class KVStore(BTree):\n",
    "    \n",
    "    def __init__(self):\n",
    "        super().__init__(split_threshold=2)"
   ]
  },
  {
   "cell_type": "markdown",
   "metadata": {},
   "source": [
    "## Overriding the Add Method\n",
    "\n",
    "The add() method from the BTree class allows a user to add multiple entries with the same key. We don't want to have this behavior in the KVStore.\n",
    "\n",
    "To fix this, we can declare a new method with the same name, add, inside the KVStore. This method will override the one from the BTree. The new method will now be the one that will be called.\n",
    "\n",
    "The goal is to override the add() method and implement it so that it does the following:\n",
    "\n",
    "* If the key was already added, then we get the node that contains it and replace the value associated with it by the new value. The BTree already has a _find_node() method that allows us to find a node containing a given key (if one exists).\n",
    "\n",
    "* Otherwise, we add the new entry normally using the add() method from the BTree. To specify that we want to call the add() method from the BTree and not the one currently defined, we need to call it using the super() function, like so: super().add()."
   ]
  },
  {
   "cell_type": "code",
   "execution_count": 9,
   "metadata": {},
   "outputs": [],
   "source": [
    "class KVStore(BTree):\n",
    "    \n",
    "    def __init__(self):\n",
    "        super().__init__(split_threshold=2)\n",
    "        \n",
    "    def add(self, key, value):\n",
    "        node = self._find_node(self.root, key)\n",
    "        \n",
    "        if node is None:\n",
    "            super().add(key, value)\n",
    "        else: # Replace the old value by the new\n",
    "            for i, node_key in enumerate(node.keys):\n",
    "                if node_key == key:\n",
    "                    node.values[i] = value"
   ]
  },
  {
   "cell_type": "markdown",
   "metadata": {},
   "source": [
    "## Testing\n",
    "\n",
    "We will create assertions to test for the following:\n",
    "\n",
    "* The split threshold of a KVStore equals 2.\n",
    "* If we add an entry with the KVStore.add() method and retrieve it with the KVStore.get_value(), we get the same value that was added.\n",
    "* If we add two entries with the same key and different values, the value updates."
   ]
  },
  {
   "cell_type": "code",
   "execution_count": 10,
   "metadata": {},
   "outputs": [],
   "source": [
    "kv = KVStore()\n",
    "\n",
    "# Split threshold is equal to 2\n",
    "assert kv.split_threshold == 2, 'The split is equal to 2.'\n",
    "\n",
    "# If you add entry with same value/key pair then you can retrieve it\n",
    "for i in range(5):\n",
    "    kv.add(i,i)\n",
    "    \n",
    "for i in range(5):\n",
    "    assert kv.get_value(i) == i, 'Value of i is i'\n",
    "    \n",
    "# Two entries with same key and different values cause a value update\n",
    "for i in range(5):\n",
    "    kv.add(i,i*i)\n",
    "    \n",
    "for i in range(5):\n",
    "    assert kv.get_value(i) == i*i, 'Value of i is i*i'"
   ]
  },
  {
   "cell_type": "markdown",
   "metadata": {},
   "source": [
    "## Implementing the Item Getter and Setter\n",
    "\n",
    "Let's make the KVStore easier to use by allowing users to use the bracket syntax to add entries and retrieve values. We want to use the same syntax that dictionaries use."
   ]
  },
  {
   "cell_type": "code",
   "execution_count": 11,
   "metadata": {},
   "outputs": [],
   "source": [
    "class KVStore(BTree):\n",
    "    \n",
    "    def __init__(self):\n",
    "        super().__init__(split_threshold=2)\n",
    "        \n",
    "    def add(self, key, value):\n",
    "        node = self._find_node(self.root, key)\n",
    "        if node is None:\n",
    "            super().add(key, value)\n",
    "        else: # Replace the old value by the new\n",
    "            for i, node_key in enumerate(node.keys):\n",
    "                if node_key == key:\n",
    "                    node.values[i] = value\n",
    "                    \n",
    "    def __setitem__(self, key, value):\n",
    "        self.add(key, value)\n",
    "        \n",
    "    def __getitem__(self, key):\n",
    "        return self.get_value(key)"
   ]
  },
  {
   "cell_type": "markdown",
   "metadata": {},
   "source": [
    "## Testing Getter and Setter\n",
    "\n",
    "Going to redo the same tests but using the new bracket syntax"
   ]
  },
  {
   "cell_type": "code",
   "execution_count": 13,
   "metadata": {},
   "outputs": [],
   "source": [
    "kv = KVStore()\n",
    "\n",
    "# Split threshold is equal to 2\n",
    "assert kv.split_threshold == 2, 'The split is equal to 2.'\n",
    "\n",
    "# If you add entry with same value/key pair then you can retrieve it\n",
    "for i in range(5):\n",
    "    kv[i] = i\n",
    "    \n",
    "for i in range(5):\n",
    "    assert kv[i] == i, 'Value of i is i'\n",
    "    \n",
    "# Two entries with same key and different values cause a value update\n",
    "for i in range(5):\n",
    "    kv[i] = i*i\n",
    "    \n",
    "for i in range(5):\n",
    "    assert kv[i] == i*i, 'Value of i is i*i'"
   ]
  },
  {
   "cell_type": "markdown",
   "metadata": {},
   "source": [
    "## Enhancing the Contains Method\n",
    "\n",
    "Another nice feature of the dictionary is the ability to use the in operator to check whether a given key is stored.\n",
    "\n",
    "To enable this operator on a custom class, we need to implement the __contains__() method that checks whether a given key is contained in the data structure."
   ]
  },
  {
   "cell_type": "code",
   "execution_count": 14,
   "metadata": {},
   "outputs": [],
   "source": [
    "class KVStore(BTree):\n",
    "    \n",
    "    def __init__(self):\n",
    "        super().__init__(split_threshold=2)\n",
    "        \n",
    "    def add(self, key, value):\n",
    "        node = self._find_node(self.root, key)\n",
    "        if node is None:\n",
    "            super().add(key, value)\n",
    "        else: # Replace the old value by the new\n",
    "            for i, node_key in enumerate(node.keys):\n",
    "                if node_key == key:\n",
    "                    node.values[i] = value\n",
    "                    \n",
    "    def __setitem__(self, key, value):\n",
    "        self.add(key, value)\n",
    "        \n",
    "    def __getitem__(self, key):\n",
    "        return self.get_value(key)\n",
    "    \n",
    "    def __contains__(self, key):\n",
    "        return self.contains(key)"
   ]
  },
  {
   "cell_type": "markdown",
   "metadata": {},
   "source": [
    "## Testing the In Operator\n",
    "\n",
    "Will test the in operator with some strings."
   ]
  },
  {
   "cell_type": "code",
   "execution_count": 16,
   "metadata": {},
   "outputs": [],
   "source": [
    "kv = KVStore()\n",
    "\n",
    "for char in 'abc':\n",
    "    kv[char] = char\n",
    "    \n",
    "for char in 'abc':\n",
    "    assert char in kv, 'Character is in the key-value store'"
   ]
  },
  {
   "cell_type": "markdown",
   "metadata": {},
   "source": [
    "## Range Queries\n",
    "\n",
    "Our previous range query solution in the super class consisted in replacing both float('-inf') and float('inf') by None. We had then created a method named _range_intersects that checks whether the query range intersects with the node range.\n",
    "\n",
    "Here, we make the condition work in a way such that if min_key is None then it is always considered smaller than any other key and if max_key is None then it is always considered larger than any other key."
   ]
  },
  {
   "cell_type": "code",
   "execution_count": 17,
   "metadata": {},
   "outputs": [],
   "source": [
    "class KVStore(BTree):\n",
    "    \n",
    "    def __init__(self):\n",
    "        super().__init__(split_threshold=2)\n",
    "        \n",
    "    def add(self, key, value):\n",
    "        node = self._find_node(self.root, key)\n",
    "        if node is None:\n",
    "            super().add(key, value)\n",
    "        else: # Replace the old value by the new\n",
    "            for i, node_key in enumerate(node.keys):\n",
    "                if node_key == key:\n",
    "                    node.values[i] = value\n",
    "                    \n",
    "    def __setitem__(self, key, value):\n",
    "        self.add(key, value)\n",
    "        \n",
    "    def __getitem__(self, key):\n",
    "        return self.get_value(key)\n",
    "    \n",
    "    def __contains__(self, key):\n",
    "        return self.contains(key)\n",
    "    \n",
    "    def _range_intersects(self, range_start, range_end, node_min, node_max):\n",
    "        if not node_min is None and node_min > range_end:\n",
    "            return False\n",
    "        if not node_max is None and node_max < range_start:\n",
    "            return False\n",
    "        return True\n",
    "    \n",
    "    def _range_query(self, range_start, range_end, current_node, min_key, max_key):\n",
    "        if not self._range_intersects(range_start, range_end, min_key, max_key):\n",
    "            return []\n",
    "        results = []\n",
    "        for i, key in enumerate(current_node.keys):\n",
    "            if range_start <= key and key <= range_end:\n",
    "                results.append(current_node.values[i])\n",
    "        if not current_node.is_leaf():\n",
    "            for i, child in enumerate(current_node.children):\n",
    "                new_min_key = current_node.keys[i - 1] if i > 0 else min_key\n",
    "                new_max_key = current_node.keys[i] if i < len(current_node) else max_key\n",
    "                results += self._range_query(range_start, range_end, child, new_min_key, new_max_key)\n",
    "        return results \n",
    "\n",
    "    def range_query(self, range_start, range_end):\n",
    "        return self._range_query(range_start, range_end, self.root, float('-inf'), float('inf'))"
   ]
  },
  {
   "cell_type": "markdown",
   "metadata": {},
   "source": [
    "## Testing Range Query\n",
    "\n",
    "We will use an implementation of a key-value store that uses a dictionary as the base data structure to test your implementation."
   ]
  },
  {
   "cell_type": "code",
   "execution_count": 18,
   "metadata": {},
   "outputs": [],
   "source": [
    "class DictKVStore(dict):\n",
    "\n",
    "    def range_query(self, range_start, range_end):\n",
    "        result = []\n",
    "        for key in self.keys():\n",
    "            if range_start <= key and key <= range_end:\n",
    "                result.append(self[key])\n",
    "        return result\n",
    "    \n",
    "# Tests\n",
    "dict_kv = DictKVStore()\n",
    "our_kv = KVStore()\n",
    "for i in range(10):\n",
    "    dict_kv[i] = i\n",
    "    our_kv[i] = i\n",
    "\n",
    "for range_start, range_end in [(1, 3), (4, 6), (1, 10), (5, 5)]:\n",
    "    dict_res = sorted(dict_kv.range_query(range_start, range_end))\n",
    "    our_res = sorted(our_kv.range_query(range_start, range_end))\n",
    "    assert dict_res == our_res, \"Both data structures return the same range query result.\""
   ]
  },
  {
   "cell_type": "markdown",
   "metadata": {},
   "source": [
    "## Performance Testing\n",
    "\n",
    "We will now compare performance on both data structures using the following:\n",
    "\n",
    "1. Generate many entries (about 50,000 should be enough).\n",
    "2. Generate many query intervals. It's better to generate in a way that increases the number of query results from 1 to some given value. This way, we can see the impact of the number of results in the performance gained.\n",
    "3. For each query, compute the ratio between the runtime using the dictionary-based implementation and the B-tree-based implementation. A ratio of 1 means that both took the same time, a ratio of 2 means that the B-tree implementation was two times faster, and so on.\n",
    "4. Plot the runtime ratios to better visualize the results.\n",
    "\n",
    "Then we will plot the result. In order to do this, we will use the entries.csv and queries.csv."
   ]
  },
  {
   "cell_type": "code",
   "execution_count": 20,
   "metadata": {},
   "outputs": [
    {
     "data": {
      "image/png": "[encoded data removed]",
      "text/plain": [
       "<Figure size 600x400 with 1 Axes>"
      ]
     },
     "metadata": {},
     "output_type": "display_data"
    }
   ],
   "source": [
    "%matplotlib inline\n",
    "import time\n",
    "import csv\n",
    "\n",
    "dict_kv = DictKVStore()\n",
    "our_kv = KVStore()\n",
    "\n",
    "# Load the entries\n",
    "with open('entries.csv', 'r') as f:\n",
    "    rows = list(csv.reader(f))[1:]\n",
    "    for row in rows:\n",
    "        key = int(row[0])\n",
    "        value = int(row[1])\n",
    "        dict_kv[key] = value\n",
    "        our_kv[key] = value\n",
    "\n",
    "# Measure query times\n",
    "time_ratios = []\n",
    "with open('queries.csv', 'r') as f:\n",
    "    rows = list(csv.reader(f))[1:]\n",
    "    for row in rows:\n",
    "        range_start = int(row[0])\n",
    "        range_end = int(row[1])\n",
    "        \n",
    "        start = time.time()\n",
    "        dict_kv.range_query(range_start, range_end)\n",
    "        end = time.time()\n",
    "        time_dict = end - start\n",
    "\n",
    "        start = time.time()\n",
    "        our_kv.range_query(range_start, range_end)\n",
    "        end = time.time()\n",
    "        time_kv = end - start\n",
    "\n",
    "        time_ratios.append(time_dict / time_kv)\n",
    "\n",
    "# Plot results\n",
    "import matplotlib.pyplot as plt\n",
    "plt.plot(time_ratios)\n",
    "plt.xlabel('Query range result size')\n",
    "plt.ylabel('Runtime ratio')\n",
    "plt.show()"
   ]
  },
  {
   "cell_type": "markdown",
   "metadata": {},
   "source": [
    "From the graph, we can see that the performance increases at most 40 times f"
   ]
  }
 ],
 "metadata": {
  "kernelspec": {
   "display_name": "Python 3",
   "language": "python",
   "name": "python3"
  },
  "language_info": {
   "codemirror_mode": {
    "name": "ipython",
    "version": 3
   },
   "file_extension": ".py",
   "mimetype": "text/x-python",
   "name": "python",
   "nbconvert_exporter": "python",
   "pygments_lexer": "ipython3",
   "version": "3.8.2"
  }
 },
 "nbformat": 4,
 "nbformat_minor": 1
}
